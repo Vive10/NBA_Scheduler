{
 "cells": [
  {
   "cell_type": "code",
   "execution_count": 1,
   "metadata": {
    "collapsed": false
   },
   "outputs": [],
   "source": [
    "import pulp\n",
    "import datagen as dgen\n",
    "import organization as org\n",
    "import itertools\n",
    "\n",
    "def create_var_string(value):\n",
    "    # Input in a 3-element-tuple\n",
    "    return str(value[0])+'-'+str(value[1])+'-'+str(value[2])\n",
    "\n",
    "# Get a list of teams\n",
    "team_list = []\n",
    "data = dgen.DataGen(2015)\n",
    "conferences = data.league.conferences\n",
    "for key in conferences.keys():\n",
    "    conf = conferences[key]\n",
    "    for div in conf.divisions.keys():\n",
    "        teams = conf.divisions[div].teams\n",
    "        for team in teams.keys():\n",
    "            team_list.append(teams[team])\n",
    "     "
   ]
  },
  {
   "cell_type": "code",
   "execution_count": 3,
   "metadata": {
    "collapsed": false
   },
   "outputs": [
    {
     "name": "stdout",
     "output_type": "stream",
     "text": [
      "('Adding conditions for ', 'Thunder')\n",
      "('Adding conditions for ', 'Jazz')\n",
      "('Adding conditions for ', 'Timberwolves')\n",
      "('Adding conditions for ', 'Nuggets')\n",
      "('Adding conditions for ', 'Trailblazers')\n",
      "('Adding conditions for ', 'Warriors')\n",
      "('Adding conditions for ', 'Kings')\n",
      "('Adding conditions for ', 'Lakers')\n",
      "('Adding conditions for ', 'Clippers')\n",
      "('Adding conditions for ', 'Suns')\n",
      "('Adding conditions for ', 'Rockets')\n",
      "('Adding conditions for ', 'Grizzlies')\n",
      "('Adding conditions for ', 'Mavericks')\n",
      "('Adding conditions for ', 'Spurs')\n",
      "('Adding conditions for ', 'Pelicans')\n",
      "('Adding conditions for ', 'Bucks')\n",
      "('Adding conditions for ', 'Pistons')\n",
      "('Adding conditions for ', 'Pacers')\n",
      "('Adding conditions for ', 'Bulls')\n",
      "('Adding conditions for ', 'Cavaliers')\n",
      "('Adding conditions for ', 'Celtics')\n",
      "('Adding conditions for ', 'Nets')\n",
      "('Adding conditions for ', '76ers')\n",
      "('Adding conditions for ', 'Raptors')\n",
      "('Adding conditions for ', 'Knicks')\n",
      "('Adding conditions for ', 'Magic')\n",
      "('Adding conditions for ', 'Heat')\n",
      "('Adding conditions for ', 'Hawks')\n",
      "('Adding conditions for ', 'Hornets')\n",
      "('Adding conditions for ', 'Wizards')\n"
     ]
    }
   ],
   "source": [
    "# Set number of games in the season\n",
    "num_games = 82          \n",
    "els = [tuple(x) for x in itertools.combinations(team_list, 2)]\n",
    "# Create dictionary where keys are string representations of games\n",
    "#    key: \"{team1name}_{team2name}_{gamenum}\"\n",
    "#    value: information about home team and away team and game number\n",
    "variable_dict = {}\n",
    "for key in els:\n",
    "    for idx in range(1,num_games+1):\n",
    "        variable_dict[create_var_string((key[0].name,key[1].name,idx))] = {'home':key[0].name,'away':key[1].name,'homeDiv':key[0].division.name,\\\n",
    "                                                                           'homeConf':key[0].division.conference.name,\\\n",
    "                                                                           'awayConf':key[1].division.conference.name,\\\n",
    "                                                                           'awayDiv':key[1].division.name,'value':0,'gameNum':idx}\n",
    "        variable_dict[create_var_string((key[1].name,key[0].name,idx))] = {'home':key[1].name,'away':key[0].name,'homeDiv':key[1].division.name,\\\n",
    "                                                                           'homeConf':key[1].division.conference.name,\\\n",
    "                                                                           'awayConf':key[0].division.conference.name,\\\n",
    "                                                                           'awayDiv':key[0].division.name,'value':0,'gameNum':idx}\n",
    "\n",
    "x = pulp.LpVariable.dict(\"Game\",variable_dict.keys(), lowBound=0, upBound=1, cat=pulp.LpInteger)\n",
    "#Creating LP Problem\n",
    "nba_schedule = pulp.LpProblem('NBA Schedule',pulp.LpMinimize)\n",
    "for team in team_list:\n",
    "    print(\"Adding conditions for \",team.name)\n",
    "    nba_schedule += sum([x[key] for key in variable_dict.keys() if variable_dict[key]['home'] == team.name \\\n",
    "            or variable_dict[key]['away'] == team.name]) == num_games\n",
    "    '''\n",
    "    nba_schedule += sum([x[key] for key in variable_dict.keys()\\\n",
    "                        if (variable_dict[key]['home'] == team.name or\\\n",
    "                        variable_dict[key]['away'] == team.name) and \\\n",
    "                        variable_dict[key]['homeDiv'] == variable_dict[key]['awayDiv']]) == 16\n",
    "    '''\n",
    "    # Adding constraints for away and home games in a division\n",
    "    for team_other in team_list:\n",
    "        if team_other.name != team.name:\n",
    "            nba_schedule += sum([x[key] for key in variable_dict.keys()\\\n",
    "                        if variable_dict[key]['homeDiv'] == variable_dict[key]['awayDiv'] and\\\n",
    "                        variable_dict[key]['away'] == team.name and \\\n",
    "                             variable_dict[key]['home'] == team_other.name]) == 2\n",
    "            nba_schedule += sum([x[key] for key in variable_dict.keys()\\\n",
    "                        if variable_dict[key]['homeDiv'] == variable_dict[key]['awayDiv'] and\\\n",
    "                        variable_dict[key]['home'] == team.name and\\\n",
    "                            variable_dict[key]['away'] == team_other.name]) == 2\n",
    "            #Out of conference teams\n",
    "            nba_schedule += sum([x[key] for key in variable_dict.keys()\\\n",
    "                        if variable_dict[key]['homeConf'] != variable_dict[key]['awayConf'] and\\\n",
    "                        variable_dict[key]['away'] == team.name and \\\n",
    "                             variable_dict[key]['home'] == team_other.name]) == 1\n",
    "            nba_schedule += sum([x[key] for key in variable_dict.keys()\\\n",
    "                        if variable_dict[key]['homeConf'] != variable_dict[key]['awayConf'] and\\\n",
    "                        variable_dict[key]['home'] == team.name and\\\n",
    "                            variable_dict[key]['away'] == team_other.name]) == 1\n",
    "    # Ensuring one team plays only once on a single matchday       \n",
    "    for num in range(1,num_games+1):\n",
    "        nba_schedule += sum([x[key] for key in variable_dict.keys()\\\n",
    "                            if (variable_dict[key]['home'] == team.name or\\\n",
    "                                variable_dict[key]['away'] == team.name) and \\\n",
    "                            variable_dict[key]['gameNum'] == num]) == 1\n",
    "    \n",
    "    # Adding constraints for playing 4 games against the 6 selected out-of-division in-conference opponents\n",
    "    \n",
    "    teams_in_conf = set(team.division.conference.teams())\n",
    "    assert(len(teams_in_conf) == 15)\n",
    "    teams_in_div = set(team.division.teams.values())\n",
    "    assert(len(teams_in_div) == 5)\n",
    "    for team_other in team.conf_opponents:\n",
    "        \n",
    "        nba_schedule += sum([x[key] for key in variable_dict.keys()\\\n",
    "                        if variable_dict[key]['away'] == team.name and \\\n",
    "                             variable_dict[key]['home'] == team_other.name]) == 2\n",
    "        nba_schedule += sum([x[key] for key in variable_dict.keys()\\\n",
    "                        if variable_dict[key]['home'] == team.name and \\\n",
    "                             variable_dict[key]['away'] == team_other.name]) == 2\n",
    "    \n",
    "    # Adding constraints 3 games against the 4 remaining out-of-division in-conference teams    \n",
    "    remaining_in_conf_teams = teams_in_conf - teams_in_div - team.conf_opponents\n",
    "    assert len(remaining_in_conf_teams) == 4\n",
    "    for team_other in remaining_in_conf_teams:\n",
    "        nba_schedule += sum([x[key] for key in variable_dict.keys()\\\n",
    "                        if variable_dict[key]['away'] == team.name and \\\n",
    "                             variable_dict[key]['home'] == team_other.name]) <= 2\n",
    "        nba_schedule += sum([x[key] for key in variable_dict.keys()\\\n",
    "                        if ((variable_dict[key]['away'] == team.name and \\\n",
    "                             variable_dict[key]['home'] == team_other.name) or (variable_dict[key]['home'] == team.name and \\\n",
    "                             variable_dict[key]['away'] == team_other.name))]) == 3"
   ]
  },
  {
   "cell_type": "code",
   "execution_count": null,
   "metadata": {
    "collapsed": true
   },
   "outputs": [],
   "source": [
    "\n",
    "'''            \n",
    "for key in variable_dict.keys():\n",
    "    home = variable_dict[key]['home']\n",
    "    away = variable_dict[key]['away']\n",
    "    game_no = variable_dict[key]['gameNum']\n",
    "    rev_key = create_var_string((away,home,game_no))\n",
    "    nba_schedule += sum([x[key]+x[rev_key]]) <= 1\n",
    "\n",
    "        for gameNum in range(1,num_games+1):    \n",
    "            nba_schedule += sum([x[key] for key in variable_dict.keys()\\\n",
    "                        if variable_dict[key]['homeDiv'] == variable_dict[key]['awayDiv'] and\\\n",
    "                        variable_dict[key]['home'] == team.name and\\\n",
    "                            variable_dict[key]['away'] == team_other.name\\\n",
    "                                and variable_dict[key]['gameNum'] == gameNum]) <= 1\n",
    "'''"
   ]
  },
  {
   "cell_type": "code",
   "execution_count": 4,
   "metadata": {
    "collapsed": false
   },
   "outputs": [
    {
     "name": "stdout",
     "output_type": "stream",
     "text": [
      "Solving\n"
     ]
    },
    {
     "data": {
      "text/plain": [
       "1"
      ]
     },
     "execution_count": 4,
     "metadata": {},
     "output_type": "execute_result"
    }
   ],
   "source": [
    "print(\"Solving\")\n",
    "nba_schedule.solve()"
   ]
  },
  {
   "cell_type": "code",
   "execution_count": 9,
   "metadata": {
    "collapsed": true
   },
   "outputs": [],
   "source": [
    "#Saving the LP object\n",
    "nba_schedule.writeLP(\"nba_schedule.lp\")"
   ]
  },
  {
   "cell_type": "code",
   "execution_count": 7,
   "metadata": {
    "collapsed": false
   },
   "outputs": [],
   "source": [
    "list_celtics = []\n",
    "for key in variable_dict.keys():\n",
    "    if (variable_dict[key]['home'] == 'Celtics' or variable_dict[key]['away'] == 'Celtics') and x[key].value() != 0:\n",
    "         list_celtics.append((key,x[key].value(),variable_dict[key]['gameNum']))"
   ]
  },
  {
   "cell_type": "code",
   "execution_count": 8,
   "metadata": {
    "collapsed": false
   },
   "outputs": [
    {
     "data": {
      "text/plain": [
       "[('Warriors-Celtics-1', 1.0, 1),\n",
       " ('Celtics-Trailblazers-2', 1.0, 2),\n",
       " ('Celtics-Thunder-3', 1.0, 3),\n",
       " ('Nets-Celtics-4', 1.0, 4),\n",
       " ('Celtics-Bucks-5', 1.0, 5),\n",
       " ('Knicks-Celtics-6', 1.0, 6),\n",
       " ('Celtics-Lakers-7', 1.0, 7),\n",
       " ('Celtics-Magic-8', 1.0, 8),\n",
       " ('Celtics-Heat-9', 1.0, 9),\n",
       " ('Kings-Celtics-10', 1.0, 10),\n",
       " ('Nuggets-Celtics-11', 1.0, 11),\n",
       " ('Celtics-Grizzlies-12', 1.0, 12),\n",
       " ('Pistons-Celtics-13', 1.0, 13),\n",
       " ('Celtics-Nets-14', 1.0, 14),\n",
       " ('Celtics-Timberwolves-15', 1.0, 15),\n",
       " ('Raptors-Celtics-16', 1.0, 16),\n",
       " ('Timberwolves-Celtics-17', 1.0, 17),\n",
       " ('Celtics-Raptors-18', 1.0, 18),\n",
       " ('Celtics-Pacers-19', 1.0, 19),\n",
       " ('Suns-Celtics-20', 1.0, 20),\n",
       " ('Celtics-Suns-21', 1.0, 21),\n",
       " ('Celtics-Pistons-22', 1.0, 22),\n",
       " ('Knicks-Celtics-23', 1.0, 23),\n",
       " ('Mavericks-Celtics-24', 1.0, 24),\n",
       " ('Celtics-Warriors-25', 1.0, 25),\n",
       " ('Bulls-Celtics-26', 1.0, 26),\n",
       " ('Celtics-Pistons-27', 1.0, 27),\n",
       " ('Celtics-Hornets-28', 1.0, 28),\n",
       " ('Celtics-Rockets-29', 1.0, 29),\n",
       " ('Celtics-Cavaliers-30', 1.0, 30),\n",
       " ('Celtics-Mavericks-31', 1.0, 31),\n",
       " ('Celtics-Hawks-32', 1.0, 32),\n",
       " ('Wizards-Celtics-33', 1.0, 33),\n",
       " ('Lakers-Celtics-34', 1.0, 34),\n",
       " ('Celtics-Clippers-35', 1.0, 35),\n",
       " ('Celtics-Nuggets-36', 1.0, 36),\n",
       " ('Celtics-Raptors-37', 1.0, 37),\n",
       " ('Bucks-Celtics-38', 1.0, 38),\n",
       " ('Jazz-Celtics-39', 1.0, 39),\n",
       " ('Celtics-Kings-40', 1.0, 40),\n",
       " ('Celtics-76ers-41', 1.0, 41),\n",
       " ('Celtics-Hawks-42', 1.0, 42),\n",
       " ('Cavaliers-Celtics-43', 1.0, 43),\n",
       " ('Trailblazers-Celtics-44', 1.0, 44),\n",
       " ('Hornets-Celtics-45', 1.0, 45),\n",
       " ('Celtics-Bulls-46', 1.0, 46),\n",
       " ('Heat-Celtics-47', 1.0, 47),\n",
       " ('76ers-Celtics-48', 1.0, 48),\n",
       " ('Pacers-Celtics-49', 1.0, 49),\n",
       " ('Pelicans-Celtics-50', 1.0, 50),\n",
       " ('Bulls-Celtics-51', 1.0, 51),\n",
       " ('Cavaliers-Celtics-52', 1.0, 52),\n",
       " ('Celtics-Knicks-53', 1.0, 53),\n",
       " ('Spurs-Celtics-54', 1.0, 54),\n",
       " ('Hawks-Celtics-55', 1.0, 55),\n",
       " ('Celtics-Nets-56', 1.0, 56),\n",
       " ('Celtics-Wizards-57', 1.0, 57),\n",
       " ('Celtics-Bulls-58', 1.0, 58),\n",
       " ('Celtics-Pelicans-59', 1.0, 59),\n",
       " ('Celtics-Jazz-60', 1.0, 60),\n",
       " ('Clippers-Celtics-61', 1.0, 61),\n",
       " ('76ers-Celtics-62', 1.0, 62),\n",
       " ('Grizzlies-Celtics-63', 1.0, 63),\n",
       " ('Celtics-Heat-64', 1.0, 64),\n",
       " ('Thunder-Celtics-65', 1.0, 65),\n",
       " ('Heat-Celtics-66', 1.0, 66),\n",
       " ('Rockets-Celtics-67', 1.0, 67),\n",
       " ('Celtics-Knicks-68', 1.0, 68),\n",
       " ('Celtics-Wizards-69', 1.0, 69),\n",
       " ('Celtics-Hornets-70', 1.0, 70),\n",
       " ('Celtics-Spurs-71', 1.0, 71),\n",
       " ('Magic-Celtics-72', 1.0, 72),\n",
       " ('Celtics-Bucks-73', 1.0, 73),\n",
       " ('Pacers-Celtics-74', 1.0, 74),\n",
       " ('Celtics-Magic-75', 1.0, 75),\n",
       " ('Celtics-Cavaliers-76', 1.0, 76),\n",
       " ('Celtics-Pacers-77', 1.0, 77),\n",
       " ('Nets-Celtics-78', 1.0, 78),\n",
       " ('Magic-Celtics-79', 1.0, 79),\n",
       " ('Celtics-76ers-80', 1.0, 80),\n",
       " ('Raptors-Celtics-81', 1.0, 81),\n",
       " ('Hornets-Celtics-82', 1.0, 82)]"
      ]
     },
     "execution_count": 8,
     "metadata": {},
     "output_type": "execute_result"
    }
   ],
   "source": [
    "sorted(list_celtics,key=lambda x: x[2])"
   ]
  },
  {
   "cell_type": "markdown",
   "metadata": {},
   "source": [
    "###Testing on a smaller subset"
   ]
  },
  {
   "cell_type": "code",
   "execution_count": 185,
   "metadata": {
    "collapsed": false
   },
   "outputs": [],
   "source": [
    "league = {'A1':'A','A2':'A','A3':'A','A4':'A','B1':'B','B2':'B','B3':'B','B4':'B'}\n",
    "els = [tuple(x) for x in itertools.combinations(league.keys(), 2)]\n",
    "num_games = 12\n",
    "team_list = league.keys()\n",
    "variable_dict = {}\n",
    "for key in els:\n",
    "    for idx in range(1,num_games+1):\n",
    "        variable_dict[create_var_string((key[0],key[1],idx))] = {'home':key[0],'away':key[1],'homeDiv':league[key[0]],\\\n",
    "                                                                           'awayDiv':league[key[1]],'value':0,'gameNum':idx}\n",
    "        variable_dict[create_var_string((key[1],key[0],idx))] = {'home':key[1],'away':key[0],'homeDiv':league[key[1]],\\\n",
    "                                                                           'awayDiv':league[key[0]],'value':0,'gameNum':idx}"
   ]
  },
  {
   "cell_type": "code",
   "execution_count": 190,
   "metadata": {
    "collapsed": false
   },
   "outputs": [
    {
     "name": "stdout",
     "output_type": "stream",
     "text": [
      "('Adding conditions for ', 'A1')\n",
      "('Adding conditions for ', 'B4')\n",
      "('Adding conditions for ', 'A3')\n",
      "('Adding conditions for ', 'A2')\n",
      "('Adding conditions for ', 'A4')\n",
      "('Adding conditions for ', 'B2')\n",
      "('Adding conditions for ', 'B3')\n",
      "('Adding conditions for ', 'B1')\n"
     ]
    }
   ],
   "source": [
    "x = pulp.LpVariable.dict(\"Game\",variable_dict.keys(), lowBound=0, upBound=1, cat=pulp.LpInteger)\n",
    "#Creating LP Problem\n",
    "nba_schedule = pulp.LpProblem('NBA Schedule',pulp.LpMinimize)\n",
    "for team in team_list:\n",
    "    print(\"Adding conditions for \",team)\n",
    "    nba_schedule += sum([x[key] for key in variable_dict.keys() if variable_dict[key]['home'] == team \\\n",
    "            or variable_dict[key]['away'] == team]) == num_games\n",
    "    for team_other in team_list:\n",
    "        if team_other != team:\n",
    "            nba_schedule += sum([x[key] for key in variable_dict.keys()\\\n",
    "                        if variable_dict[key]['homeDiv'] == variable_dict[key]['awayDiv'] and\\\n",
    "                        variable_dict[key]['away'] == team and \\\n",
    "                             variable_dict[key]['home'] == team_other]) == 2\n",
    "            \n",
    "            nba_schedule += sum([x[key] for key in variable_dict.keys()\\\n",
    "                        if variable_dict[key]['homeDiv'] == variable_dict[key]['awayDiv'] and\\\n",
    "                        variable_dict[key]['home'] == team and\\\n",
    "                            variable_dict[key]['away'] == team_other]) == 2\n",
    "            \n",
    "            \n",
    "    for num in range(1,num_games+1):\n",
    "        nba_schedule += sum([x[key] for key in variable_dict.keys()\\\n",
    "                            if (variable_dict[key]['home'] == team or variable_dict[key]['away'] == team) and \\\n",
    "                            variable_dict[key]['gameNum'] == num]) == 1"
   ]
  },
  {
   "cell_type": "code",
   "execution_count": 192,
   "metadata": {
    "collapsed": false
   },
   "outputs": [
    {
     "data": {
      "text/plain": [
       "1"
      ]
     },
     "execution_count": 192,
     "metadata": {},
     "output_type": "execute_result"
    }
   ],
   "source": [
    "nba_schedule.solve()"
   ]
  },
  {
   "cell_type": "code",
   "execution_count": 193,
   "metadata": {
    "collapsed": false
   },
   "outputs": [
    {
     "name": "stdout",
     "output_type": "stream",
     "text": [
      "('A1-A3-11', 1.0)\n",
      "('A4-A1-9', 1.0)\n",
      "('A3-A1-8', 1.0)\n",
      "('A2-A1-1', 1.0)\n",
      "('A2-A1-6', 1.0)\n",
      "('A1-A4-2', 1.0)\n",
      "('A1-A3-4', 1.0)\n",
      "('A4-A1-10', 1.0)\n",
      "('A3-A1-12', 1.0)\n",
      "('A1-A2-5', 1.0)\n",
      "('A1-A2-3', 1.0)\n",
      "('A1-A4-7', 1.0)\n"
     ]
    }
   ],
   "source": [
    "for key in variable_dict.keys():\n",
    "    if (variable_dict[key]['home'] == 'A1' or variable_dict[key]['away'] == 'A1') and x[key].value() != 0:\n",
    "        print (key,x[key].value())"
   ]
  },
  {
   "cell_type": "code",
   "execution_count": null,
   "metadata": {
    "collapsed": true
   },
   "outputs": [],
   "source": []
  }
 ],
 "metadata": {
  "kernelspec": {
   "display_name": "Python 2",
   "language": "python",
   "name": "python2"
  },
  "language_info": {
   "codemirror_mode": {
    "name": "ipython",
    "version": 2
   },
   "file_extension": ".py",
   "mimetype": "text/x-python",
   "name": "python",
   "nbconvert_exporter": "python",
   "pygments_lexer": "ipython2",
   "version": "2.7.10"
  }
 },
 "nbformat": 4,
 "nbformat_minor": 0
}
