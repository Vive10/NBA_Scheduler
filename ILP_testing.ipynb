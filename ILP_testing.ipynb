{
 "cells": [
  {
   "cell_type": "code",
   "execution_count": 1,
   "metadata": {
    "collapsed": false
   },
   "outputs": [],
   "source": [
    "import pulp\n",
    "import datagen as dgen\n",
    "import organization as org\n",
    "import itertools\n",
    "\n",
    "def create_var_string(value):\n",
    "    # Input in a 3-element-tuple\n",
    "    return str(value[0])+'-'+str(value[1])+'-'+str(value[2])\n",
    "\n",
    "# Get a list of teams\n",
    "team_list = []\n",
    "data = dgen.DataGen(2015)\n",
    "conferences = data.league.conferences\n",
    "for key in conferences.keys():\n",
    "    conf = conferences[key]\n",
    "    for div in conf.divisions.keys():\n",
    "        teams = conf.divisions[div].teams\n",
    "        for team in teams.keys():\n",
    "            team_list.append(teams[team])"
   ]
  },
  {
   "cell_type": "code",
   "execution_count": 2,
   "metadata": {
    "collapsed": false
   },
   "outputs": [
    {
     "name": "stdout",
     "output_type": "stream",
     "text": [
      "('Adding conditions for ', 'Thunder')\n",
      "('Adding conditions for ', 'Jazz')\n",
      "('Adding conditions for ', 'Timberwolves')\n",
      "('Adding conditions for ', 'Nuggets')\n",
      "('Adding conditions for ', 'Trailblazers')\n",
      "('Adding conditions for ', 'Warriors')\n",
      "('Adding conditions for ', 'Kings')\n",
      "('Adding conditions for ', 'Lakers')\n",
      "('Adding conditions for ', 'Clippers')\n",
      "('Adding conditions for ', 'Suns')\n",
      "('Adding conditions for ', 'Rockets')\n",
      "('Adding conditions for ', 'Grizzlies')\n",
      "('Adding conditions for ', 'Mavericks')\n",
      "('Adding conditions for ', 'Spurs')\n",
      "('Adding conditions for ', 'Pelicans')\n",
      "('Adding conditions for ', 'Bucks')\n",
      "('Adding conditions for ', 'Pistons')\n",
      "('Adding conditions for ', 'Pacers')\n",
      "('Adding conditions for ', 'Bulls')\n",
      "('Adding conditions for ', 'Cavaliers')\n",
      "('Adding conditions for ', 'Celtics')\n",
      "('Adding conditions for ', 'Nets')\n",
      "('Adding conditions for ', '76ers')\n",
      "('Adding conditions for ', 'Raptors')\n",
      "('Adding conditions for ', 'Knicks')\n",
      "('Adding conditions for ', 'Magic')\n",
      "('Adding conditions for ', 'Heat')\n",
      "('Adding conditions for ', 'Hawks')\n",
      "('Adding conditions for ', 'Hornets')\n",
      "('Adding conditions for ', 'Wizards')\n"
     ]
    }
   ],
   "source": [
    "# Set number of games in the season\n",
    "num_games = 82          \n",
    "els = [tuple(x) for x in itertools.combinations(team_list, 2)]\n",
    "# Create dictionary where keys are string representations of games\n",
    "#    key: \"{team1name}_{team2name}_{gamenum}\"\n",
    "#    value: information about home team and away team and game number\n",
    "variable_dict = {}\n",
    "for key in els:\n",
    "    for idx in range(1,num_games+1):\n",
    "        variable_dict[create_var_string((key[0].name,key[1].name,idx))] = {'home':key[0].name,'away':key[1].name,'homeDiv':key[0].division.name,\\\n",
    "                                                                           'homeConf':key[0].division.conference.name,\\\n",
    "                                                                           'awayConf':key[1].division.conference.name,\\\n",
    "                                                                           'awayDiv':key[1].division.name,'value':0,'gameNum':idx}\n",
    "        variable_dict[create_var_string((key[1].name,key[0].name,idx))] = {'home':key[1].name,'away':key[0].name,'homeDiv':key[1].division.name,\\\n",
    "                                                                           'homeConf':key[1].division.conference.name,\\\n",
    "                                                                           'awayConf':key[0].division.conference.name,\\\n",
    "                                                                           'awayDiv':key[0].division.name,'value':0,'gameNum':idx}\n",
    "\n",
    "x = pulp.LpVariable.dict(\"Game\",variable_dict.keys(), lowBound=0, upBound=1, cat=pulp.LpInteger)\n",
    "#Creating LP Problem\n",
    "nba_schedule = pulp.LpProblem('NBA Schedule',pulp.LpMinimize)\n",
    "for team in team_list:\n",
    "    print(\"Adding conditions for \",team.name)\n",
    "    nba_schedule += sum([x[key] for key in variable_dict.keys() if variable_dict[key]['home'] == team.name \\\n",
    "            or variable_dict[key]['away'] == team.name]) == num_games\n",
    "    nba_schedule += sum([x[key] for key in variable_dict.keys() if variable_dict[key]['home'] == team.name])\\\n",
    "                         == num_games/2\n",
    "    nba_schedule += sum([x[key] for key in variable_dict.keys() if variable_dict[key]['away'] == team.name])\\\n",
    "                         == num_games/2\n",
    "    '''\n",
    "    nba_schedule += sum([x[key] for key in variable_dict.keys()\\\n",
    "                        if (variable_dict[key]['home'] == team.name or\\\n",
    "                        variable_dict[key]['away'] == team.name) and \\\n",
    "                        variable_dict[key]['homeDiv'] == variable_dict[key]['awayDiv']]) == 16\n",
    "    '''\n",
    "    # Adding constraints for away and home games in a division\n",
    "    for team_other in team_list:\n",
    "        if team_other.name != team.name:\n",
    "            nba_schedule += sum([x[key] for key in variable_dict.keys()\\\n",
    "                        if variable_dict[key]['homeDiv'] == variable_dict[key]['awayDiv'] and\\\n",
    "                        variable_dict[key]['away'] == team.name and \\\n",
    "                             variable_dict[key]['home'] == team_other.name]) == 2\n",
    "            nba_schedule += sum([x[key] for key in variable_dict.keys()\\\n",
    "                        if variable_dict[key]['homeDiv'] == variable_dict[key]['awayDiv'] and\\\n",
    "                        variable_dict[key]['home'] == team.name and\\\n",
    "                            variable_dict[key]['away'] == team_other.name]) == 2\n",
    "            #Out of conference teams\n",
    "            nba_schedule += sum([x[key] for key in variable_dict.keys()\\\n",
    "                        if variable_dict[key]['homeConf'] != variable_dict[key]['awayConf'] and\\\n",
    "                        variable_dict[key]['away'] == team.name and \\\n",
    "                             variable_dict[key]['home'] == team_other.name]) == 1\n",
    "            nba_schedule += sum([x[key] for key in variable_dict.keys()\\\n",
    "                        if variable_dict[key]['homeConf'] != variable_dict[key]['awayConf'] and\\\n",
    "                        variable_dict[key]['home'] == team.name and\\\n",
    "                            variable_dict[key]['away'] == team_other.name]) == 1\n",
    "    # Ensuring one team plays only once on a single matchday       \n",
    "    for num in range(1,num_games+1):\n",
    "        nba_schedule += sum([x[key] for key in variable_dict.keys()\\\n",
    "                            if (variable_dict[key]['home'] == team.name or\\\n",
    "                                variable_dict[key]['away'] == team.name) and \\\n",
    "                            variable_dict[key]['gameNum'] == num]) == 1\n",
    "    \n",
    "    # Adding constraints for playing 4 games against the 6 selected out-of-division in-conference opponents\n",
    "    \n",
    "    teams_in_conf = set(team.division.conference.teams())\n",
    "    assert(len(teams_in_conf) == 15)\n",
    "    teams_in_div = set(team.division.teams.values())\n",
    "    assert(len(teams_in_div) == 5)\n",
    "    for team_other in team.conf_opponents:\n",
    "        \n",
    "        nba_schedule += sum([x[key] for key in variable_dict.keys()\\\n",
    "                        if variable_dict[key]['away'] == team.name and \\\n",
    "                             variable_dict[key]['home'] == team_other.name]) == 2\n",
    "        nba_schedule += sum([x[key] for key in variable_dict.keys()\\\n",
    "                        if variable_dict[key]['home'] == team.name and \\\n",
    "                             variable_dict[key]['away'] == team_other.name]) == 2\n",
    "    \n",
    "    # Adding constraints 3 games against the 4 remaining out-of-division in-conference teams    \n",
    "    remaining_in_conf_teams = teams_in_conf - teams_in_div - team.conf_opponents\n",
    "    assert len(remaining_in_conf_teams) == 4\n",
    "    for team_other in remaining_in_conf_teams:\n",
    "        nba_schedule += sum([x[key] for key in variable_dict.keys()\\\n",
    "                        if variable_dict[key]['away'] == team.name and \\\n",
    "                             variable_dict[key]['home'] == team_other.name]) <= 2\n",
    "        nba_schedule += sum([x[key] for key in variable_dict.keys()\\\n",
    "                        if ((variable_dict[key]['away'] == team.name and \\\n",
    "                             variable_dict[key]['home'] == team_other.name) or (variable_dict[key]['home'] == team.name and \\\n",
    "                             variable_dict[key]['away'] == team_other.name))]) == 3"
   ]
  },
  {
   "cell_type": "code",
   "execution_count": null,
   "metadata": {
    "collapsed": true
   },
   "outputs": [],
   "source": [
    "\n",
    "'''            \n",
    "for key in variable_dict.keys():\n",
    "    home = variable_dict[key]['home']\n",
    "    away = variable_dict[key]['away']\n",
    "    game_no = variable_dict[key]['gameNum']\n",
    "    rev_key = create_var_string((away,home,game_no))\n",
    "    nba_schedule += sum([x[key]+x[rev_key]]) <= 1\n",
    "\n",
    "        for gameNum in range(1,num_games+1):    \n",
    "            nba_schedule += sum([x[key] for key in variable_dict.keys()\\\n",
    "                        if variable_dict[key]['homeDiv'] == variable_dict[key]['awayDiv'] and\\\n",
    "                        variable_dict[key]['home'] == team.name and\\\n",
    "                            variable_dict[key]['away'] == team_other.name\\\n",
    "                                and variable_dict[key]['gameNum'] == gameNum]) <= 1\n",
    "'''"
   ]
  },
  {
   "cell_type": "code",
   "execution_count": 3,
   "metadata": {
    "collapsed": false
   },
   "outputs": [
    {
     "name": "stdout",
     "output_type": "stream",
     "text": [
      "Solving\n"
     ]
    },
    {
     "data": {
      "text/plain": [
       "1"
      ]
     },
     "execution_count": 3,
     "metadata": {},
     "output_type": "execute_result"
    }
   ],
   "source": [
    "print(\"Solving\")\n",
    "nba_schedule.solve()"
   ]
  },
  {
   "cell_type": "code",
   "execution_count": 116,
   "metadata": {
    "collapsed": true
   },
   "outputs": [],
   "source": [
    "#Saving the LP object\n",
    "nba_schedule.writeLP(\"nba_schedule.lp\")"
   ]
  },
  {
   "cell_type": "code",
   "execution_count": 14,
   "metadata": {
    "collapsed": false
   },
   "outputs": [],
   "source": [
    "list_celtics = []\n",
    "for key in variable_dict.keys():\n",
    "    if (variable_dict[key]['home'] == 'Celtics' or variable_dict[key]['away'] == 'Celtics') and x[key].value() != 0:\n",
    "         list_celtics.append((key,x[key].value(),variable_dict[key]['gameNum']))"
   ]
  },
  {
   "cell_type": "code",
   "execution_count": 15,
   "metadata": {
    "collapsed": false
   },
   "outputs": [
    {
     "data": {
      "text/plain": [
       "[('Raptors-Celtics-1', 1.0, 1),\n",
       " ('76ers-Celtics-2', 1.0, 2),\n",
       " ('Celtics-Rockets-3', 1.0, 3),\n",
       " ('Heat-Celtics-4', 1.0, 4),\n",
       " ('Celtics-Knicks-5', 1.0, 5),\n",
       " ('Bucks-Celtics-6', 1.0, 6),\n",
       " ('Celtics-Nets-7', 1.0, 7),\n",
       " ('Cavaliers-Celtics-8', 1.0, 8),\n",
       " ('Hornets-Celtics-9', 1.0, 9),\n",
       " ('Celtics-Pistons-10', 1.0, 10),\n",
       " ('Celtics-Kings-11', 1.0, 11),\n",
       " ('Celtics-Magic-12', 1.0, 12),\n",
       " ('Celtics-Bulls-13', 1.0, 13),\n",
       " ('Celtics-Hawks-14', 1.0, 14),\n",
       " ('76ers-Celtics-15', 1.0, 15),\n",
       " ('Celtics-Nets-16', 1.0, 16),\n",
       " ('Celtics-Pacers-17', 1.0, 17),\n",
       " ('Magic-Celtics-18', 1.0, 18),\n",
       " ('Thunder-Celtics-19', 1.0, 19),\n",
       " ('Celtics-Pacers-20', 1.0, 20),\n",
       " ('Celtics-Raptors-21', 1.0, 21),\n",
       " ('Rockets-Celtics-22', 1.0, 22),\n",
       " ('Nets-Celtics-23', 1.0, 23),\n",
       " ('Warriors-Celtics-24', 1.0, 24),\n",
       " ('Knicks-Celtics-25', 1.0, 25),\n",
       " ('Timberwolves-Celtics-26', 1.0, 26),\n",
       " ('Cavaliers-Celtics-27', 1.0, 27),\n",
       " ('Celtics-Magic-28', 1.0, 28),\n",
       " ('Celtics-Heat-29', 1.0, 29),\n",
       " ('Celtics-Timberwolves-30', 1.0, 30),\n",
       " ('Pacers-Celtics-31', 1.0, 31),\n",
       " ('Hornets-Celtics-32', 1.0, 32),\n",
       " ('Hawks-Celtics-33', 1.0, 33),\n",
       " ('Wizards-Celtics-34', 1.0, 34),\n",
       " ('Celtics-Heat-35', 1.0, 35),\n",
       " ('Spurs-Celtics-36', 1.0, 36),\n",
       " ('Celtics-76ers-37', 1.0, 37),\n",
       " ('Celtics-Raptors-38', 1.0, 38),\n",
       " ('Raptors-Celtics-39', 1.0, 39),\n",
       " ('Knicks-Celtics-40', 1.0, 40),\n",
       " ('Magic-Celtics-41', 1.0, 41),\n",
       " ('Celtics-Suns-42', 1.0, 42),\n",
       " ('Celtics-Trailblazers-43', 1.0, 43),\n",
       " ('Celtics-Knicks-44', 1.0, 44),\n",
       " ('Suns-Celtics-45', 1.0, 45),\n",
       " ('Celtics-Spurs-46', 1.0, 46),\n",
       " ('Celtics-Cavaliers-47', 1.0, 47),\n",
       " ('Celtics-Lakers-48', 1.0, 48),\n",
       " ('Celtics-Bulls-49', 1.0, 49),\n",
       " ('Trailblazers-Celtics-50', 1.0, 50),\n",
       " ('Celtics-Thunder-51', 1.0, 51),\n",
       " ('Pelicans-Celtics-52', 1.0, 52),\n",
       " ('Pacers-Celtics-53', 1.0, 53),\n",
       " ('Celtics-Bucks-54', 1.0, 54),\n",
       " ('Jazz-Celtics-55', 1.0, 55),\n",
       " ('Celtics-Wizards-56', 1.0, 56),\n",
       " ('Celtics-Pistons-57', 1.0, 57),\n",
       " ('Grizzlies-Celtics-58', 1.0, 58),\n",
       " ('Bulls-Celtics-59', 1.0, 59),\n",
       " ('Nuggets-Celtics-60', 1.0, 60),\n",
       " ('Celtics-76ers-61', 1.0, 61),\n",
       " ('Nets-Celtics-62', 1.0, 62),\n",
       " ('Celtics-Cavaliers-63', 1.0, 63),\n",
       " ('Celtics-Bucks-64', 1.0, 64),\n",
       " ('Celtics-Hornets-65', 1.0, 65),\n",
       " ('Heat-Celtics-66', 1.0, 66),\n",
       " ('Lakers-Celtics-67', 1.0, 67),\n",
       " ('Hawks-Celtics-68', 1.0, 68),\n",
       " ('Kings-Celtics-69', 1.0, 69),\n",
       " ('Celtics-Mavericks-70', 1.0, 70),\n",
       " ('Pistons-Celtics-71', 1.0, 71),\n",
       " ('Celtics-Nuggets-72', 1.0, 72),\n",
       " ('Celtics-Clippers-73', 1.0, 73),\n",
       " ('Celtics-Hornets-74', 1.0, 74),\n",
       " ('Celtics-Warriors-75', 1.0, 75),\n",
       " ('Celtics-Jazz-76', 1.0, 76),\n",
       " ('Bulls-Celtics-77', 1.0, 77),\n",
       " ('Clippers-Celtics-78', 1.0, 78),\n",
       " ('Mavericks-Celtics-79', 1.0, 79),\n",
       " ('Wizards-Celtics-80', 1.0, 80),\n",
       " ('Celtics-Pelicans-81', 1.0, 81),\n",
       " ('Celtics-Grizzlies-82', 1.0, 82)]"
      ]
     },
     "execution_count": 15,
     "metadata": {},
     "output_type": "execute_result"
    }
   ],
   "source": [
    "sorted(list_celtics,key=lambda x: x[2])"
   ]
  },
  {
   "cell_type": "markdown",
   "metadata": {},
   "source": [
    "###Generating file to which is to be saved as json."
   ]
  },
  {
   "cell_type": "code",
   "execution_count": 28,
   "metadata": {
    "collapsed": false
   },
   "outputs": [],
   "source": [
    "team_dict = {}\n",
    "for team in team_list:\n",
    "    team_dict[team.name] = team"
   ]
  },
  {
   "cell_type": "code",
   "execution_count": 106,
   "metadata": {
    "collapsed": false
   },
   "outputs": [],
   "source": [
    "schedule_dict={}\n",
    "key_list = variable_dict.keys()\n",
    "for key in key_list:\n",
    "    if x[key].value() != 0:\n",
    "        home = variable_dict[key]['home']\n",
    "        away = variable_dict[key]['away']\n",
    "        game_no = variable_dict[key]['gameNum']\n",
    "        rev_key = create_var_string((away,home,game_no))\n",
    "        key_list.remove(rev_key)\n",
    "for key in key_list:\n",
    "    if x[key].value() != 0:\n",
    "        schedule_dict[(team_dict[variable_dict[key]['home']],variable_dict[key]['gameNum'])]\\\n",
    "        = (team_dict[variable_dict[key]['away']],'home')\n",
    "        schedule_dict[(team_dict[variable_dict[key]['away']],variable_dict[key]['gameNum'])]\\\n",
    "        = (team_dict[variable_dict[key]['home']],'away')"
   ]
  },
  {
   "cell_type": "code",
   "execution_count": 115,
   "metadata": {
    "collapsed": false
   },
   "outputs": [],
   "source": [
    "#Saving the schedule directory\n",
    "import pickle\n",
    "with open('nba_schedule.pickle', 'wb') as handle:\n",
    "    pickle.dump(schedule_dict, handle)"
   ]
  },
  {
   "cell_type": "code",
   "execution_count": 111,
   "metadata": {
    "collapsed": false
   },
   "outputs": [
    {
     "name": "stdout",
     "output_type": "stream",
     "text": [
      "Test passed for: Nuggets\n",
      "Test passed for: Timberwolves\n",
      "Test passed for: Trailblazers\n",
      "Test passed for: Warriors\n",
      "Test passed for: Clippers\n",
      "Test passed for: Suns\n",
      "Test passed for: Kings\n",
      "Test passed for: Lakers\n",
      "Test passed for: Spurs\n",
      "Test passed for: Mavericks\n",
      "Test passed for: Grizzlies\n",
      "Test passed for: Rockets\n",
      "Test passed for: Pelicans\n",
      "Test passed for: Raptors\n",
      "Test passed for: Celtics\n",
      "Test passed for: Knicks\n",
      "Test passed for: Nets\n",
      "Test passed for: 76ers\n",
      "Test passed for: Cavaliers\n",
      "Test passed for: Bulls\n",
      "Test passed for: Pacers\n",
      "Test passed for: Pistons\n",
      "Test passed for: Bucks\n",
      "Test passed for: Hawks\n",
      "Test passed for: Heat\n",
      "Test passed for: Hornets\n",
      "Test passed for: Wizards\n",
      "Test passed for: Magic\n",
      "Test passed for: Thunder\n",
      "Test passed for: Jazz\n",
      "All tests passed\n"
     ]
    }
   ],
   "source": [
    "from schedule_tests import *\n",
    "schedule_test(schedule_dict,82)"
   ]
  },
  {
   "cell_type": "code",
   "execution_count": 112,
   "metadata": {
    "collapsed": false
   },
   "outputs": [],
   "source": [
    "##Local copy of the function\n",
    "def schedule_tests(schedule_dict,num_games):\n",
    "    teams = set(map(lambda x:x[0],schedule_dict.keys()))\n",
    "    teamNames = set(map(lambda x:x[0].name,schedule_dict.keys()))\n",
    "    for team in teams:\n",
    "        #print \"Testing schedule for:\",team.name\n",
    "        home_count = 0\n",
    "        away_count = 0\n",
    "        home_cdiv = {}\n",
    "        away_cdiv = {}\n",
    "        total_cdiv = {}\n",
    "        home_div = {}\n",
    "        away_div = {}\n",
    "        total_div = {}\n",
    "        home_oconf = {}\n",
    "        away_oconf = {}\n",
    "        total_oconf = {}\n",
    "        home_odiv = {}\n",
    "        away_odiv = {}\n",
    "        total_odiv = {}\n",
    "        for conf_team in team.conf_opponents:\n",
    "            home_cdiv[conf_team.name] = 0\n",
    "            away_cdiv[conf_team.name] = 0\n",
    "            total_cdiv[conf_team.name] = 0\n",
    "        for div in team.division.teams:\n",
    "            if div != team.name:\n",
    "                home_div[div] = 0\n",
    "                away_div[div] = 0\n",
    "                total_div[div] = 0\n",
    "        out_conf_set = set(teams) - set(team.division.conference.teams())\n",
    "        for out_conf in out_conf_set:\n",
    "            home_oconf[out_conf.name] = 0\n",
    "            away_oconf[out_conf.name] = 0\n",
    "            total_oconf[out_conf.name] = 0\n",
    "        out_div_set = set(team.division.conference.teams()) - set(team.conf_opponents) - set(team.division.teams.values())\n",
    "        for out_div in out_div_set:\n",
    "            home_odiv[out_div.name] = 0\n",
    "            away_odiv[out_div.name] = 0\n",
    "            total_odiv[out_div.name] = 0\n",
    "        #Running through all the games:\n",
    "        for num in range(1,num_games+1):\n",
    "            (opponent,g_type) = schedule_dict[(team,num)]\n",
    "            \n",
    "            if g_type == 'away':\n",
    "                other = 'home'\n",
    "            else:\n",
    "                other = 'away'\n",
    "            assert(schedule_dict[(opponent,num)] == (team,other))\n",
    "            if g_type == 'home':\n",
    "                home_count +=1\n",
    "            else:\n",
    "                away_count +=1\n",
    "            if opponent in team.conf_opponents:\n",
    "                if g_type == 'home':\n",
    "                    home_cdiv[opponent.name] +=1\n",
    "                    total_cdiv[opponent.name] +=1\n",
    "                else:\n",
    "                    away_cdiv[opponent.name] +=1\n",
    "                    total_cdiv[opponent.name] +=1\n",
    "            if opponent in out_conf_set:\n",
    "                if g_type == 'home':\n",
    "                    home_oconf[opponent.name] +=1\n",
    "                    total_oconf[opponent.name] +=1\n",
    "                else:\n",
    "                    away_oconf[opponent.name] +=1\n",
    "                    total_oconf[opponent.name] +=1\n",
    "                    \n",
    "            if opponent.name in team.division.teams:\n",
    "                if g_type == 'home':\n",
    "                    home_div[opponent.name] +=1\n",
    "                    total_div[opponent.name] +=1\n",
    "                else:\n",
    "                    away_div[opponent.name] +=1\n",
    "                    total_div[opponent.name] +=1\n",
    "            \n",
    "            if opponent in out_div_set:\n",
    "                if g_type == 'home':\n",
    "                    home_odiv[opponent.name] +=1\n",
    "                    total_odiv[opponent.name] +=1\n",
    "                else:\n",
    "                    away_odiv[opponent.name] +=1\n",
    "                    total_odiv[opponent.name] +=1\n",
    "        \n",
    "        #Checking out of conference:\n",
    "        assert(list_compare(1, home_oconf.values()) == True)\n",
    "        assert(list_compare(1, away_oconf.values()) == True)\n",
    "        assert(list_compare(2, total_oconf.values()) == True)\n",
    "        \n",
    "        #Checking in 3 game teams:\n",
    "        assert(list_compare(3, total_odiv.values()) == True)\n",
    "        assert(all(i <= 2 for i in home_odiv.values()) == True)\n",
    "        assert(all(i >= 1 for i in home_odiv.values()) == True)\n",
    "        assert(all(i <= 2 for i in away_odiv.values()) == True)\n",
    "        assert(all(i >= 1 for i in away_odiv.values()) == True)\n",
    "        \n",
    "        #Checking in division:\n",
    "        assert(list_compare(2, home_div.values()) == True)\n",
    "        assert(list_compare(2, away_div.values()) == True)\n",
    "        assert(list_compare(4, total_div.values()) == True)\n",
    "        \n",
    "        #Checking in conference:\n",
    "        assert(list_compare(2, home_cdiv.values()) == True)\n",
    "        assert(list_compare(2, away_cdiv.values()) == True)\n",
    "        assert(list_compare(4, total_cdiv.values()) == True)\n",
    "        \n",
    "        #Checking number of home and away games:\n",
    "        assert(home_count == num_games/2)\n",
    "        assert(away_count == num_games/2)\n",
    "        print 'Test passed for:',team.name\n",
    "    print 'All tests passed'"
   ]
  },
  {
   "cell_type": "code",
   "execution_count": 85,
   "metadata": {
    "collapsed": true
   },
   "outputs": [],
   "source": [
    "def list_compare(ref_value,list_check):\n",
    "    for elem in list_check:\n",
    "        if elem != ref_value:\n",
    "            return False\n",
    "    return True"
   ]
  },
  {
   "cell_type": "markdown",
   "metadata": {},
   "source": [
    "###Testing on a smaller subset"
   ]
  },
  {
   "cell_type": "code",
   "execution_count": 185,
   "metadata": {
    "collapsed": false
   },
   "outputs": [],
   "source": [
    "league = {'A1':'A','A2':'A','A3':'A','A4':'A','B1':'B','B2':'B','B3':'B','B4':'B'}\n",
    "els = [tuple(x) for x in itertools.combinations(league.keys(), 2)]\n",
    "num_games = 12\n",
    "team_list = league.keys()\n",
    "variable_dict = {}\n",
    "for key in els:\n",
    "    for idx in range(1,num_games+1):\n",
    "        variable_dict[create_var_string((key[0],key[1],idx))] = {'home':key[0],'away':key[1],'homeDiv':league[key[0]],\\\n",
    "                                                                           'awayDiv':league[key[1]],'value':0,'gameNum':idx}\n",
    "        variable_dict[create_var_string((key[1],key[0],idx))] = {'home':key[1],'away':key[0],'homeDiv':league[key[1]],\\\n",
    "                                                                           'awayDiv':league[key[0]],'value':0,'gameNum':idx}"
   ]
  },
  {
   "cell_type": "code",
   "execution_count": 190,
   "metadata": {
    "collapsed": false
   },
   "outputs": [
    {
     "name": "stdout",
     "output_type": "stream",
     "text": [
      "('Adding conditions for ', 'A1')\n",
      "('Adding conditions for ', 'B4')\n",
      "('Adding conditions for ', 'A3')\n",
      "('Adding conditions for ', 'A2')\n",
      "('Adding conditions for ', 'A4')\n",
      "('Adding conditions for ', 'B2')\n",
      "('Adding conditions for ', 'B3')\n",
      "('Adding conditions for ', 'B1')\n"
     ]
    }
   ],
   "source": [
    "x = pulp.LpVariable.dict(\"Game\",variable_dict.keys(), lowBound=0, upBound=1, cat=pulp.LpInteger)\n",
    "#Creating LP Problem\n",
    "nba_schedule = pulp.LpProblem('NBA Schedule',pulp.LpMinimize)\n",
    "for team in team_list:\n",
    "    print(\"Adding conditions for \",team)\n",
    "    nba_schedule += sum([x[key] for key in variable_dict.keys() if variable_dict[key]['home'] == team \\\n",
    "            or variable_dict[key]['away'] == team]) == num_games\n",
    "    for team_other in team_list:\n",
    "        if team_other != team:\n",
    "            nba_schedule += sum([x[key] for key in variable_dict.keys()\\\n",
    "                        if variable_dict[key]['homeDiv'] == variable_dict[key]['awayDiv'] and\\\n",
    "                        variable_dict[key]['away'] == team and \\\n",
    "                             variable_dict[key]['home'] == team_other]) == 2\n",
    "            \n",
    "            nba_schedule += sum([x[key] for key in variable_dict.keys()\\\n",
    "                        if variable_dict[key]['homeDiv'] == variable_dict[key]['awayDiv'] and\\\n",
    "                        variable_dict[key]['home'] == team and\\\n",
    "                            variable_dict[key]['away'] == team_other]) == 2\n",
    "            \n",
    "            \n",
    "    for num in range(1,num_games+1):\n",
    "        nba_schedule += sum([x[key] for key in variable_dict.keys()\\\n",
    "                            if (variable_dict[key]['home'] == team or variable_dict[key]['away'] == team) and \\\n",
    "                            variable_dict[key]['gameNum'] == num]) == 1"
   ]
  },
  {
   "cell_type": "code",
   "execution_count": 192,
   "metadata": {
    "collapsed": false
   },
   "outputs": [
    {
     "data": {
      "text/plain": [
       "1"
      ]
     },
     "execution_count": 192,
     "metadata": {},
     "output_type": "execute_result"
    }
   ],
   "source": [
    "nba_schedule.solve()"
   ]
  },
  {
   "cell_type": "code",
   "execution_count": 193,
   "metadata": {
    "collapsed": false
   },
   "outputs": [
    {
     "name": "stdout",
     "output_type": "stream",
     "text": [
      "('A1-A3-11', 1.0)\n",
      "('A4-A1-9', 1.0)\n",
      "('A3-A1-8', 1.0)\n",
      "('A2-A1-1', 1.0)\n",
      "('A2-A1-6', 1.0)\n",
      "('A1-A4-2', 1.0)\n",
      "('A1-A3-4', 1.0)\n",
      "('A4-A1-10', 1.0)\n",
      "('A3-A1-12', 1.0)\n",
      "('A1-A2-5', 1.0)\n",
      "('A1-A2-3', 1.0)\n",
      "('A1-A4-7', 1.0)\n"
     ]
    }
   ],
   "source": [
    "for key in variable_dict.keys():\n",
    "    if (variable_dict[key]['home'] == 'A1' or variable_dict[key]['away'] == 'A1') and x[key].value() != 0:\n",
    "        print (key,x[key].value())"
   ]
  },
  {
   "cell_type": "code",
   "execution_count": 33,
   "metadata": {
    "collapsed": false
   },
   "outputs": [
    {
     "data": {
      "text/plain": [
       "[Team : Thunder,\n",
       " Team : Jazz,\n",
       " Team : Timberwolves,\n",
       " Team : Nuggets,\n",
       " Team : Trailblazers,\n",
       " Team : Warriors,\n",
       " Team : Kings,\n",
       " Team : Lakers,\n",
       " Team : Clippers,\n",
       " Team : Suns,\n",
       " Team : Rockets,\n",
       " Team : Grizzlies,\n",
       " Team : Mavericks,\n",
       " Team : Spurs,\n",
       " Team : Pelicans]"
      ]
     },
     "execution_count": 33,
     "metadata": {},
     "output_type": "execute_result"
    }
   ],
   "source": [
    "team_list[0].division.conference.teams()"
   ]
  },
  {
   "cell_type": "code",
   "execution_count": null,
   "metadata": {
    "collapsed": true
   },
   "outputs": [],
   "source": []
  }
 ],
 "metadata": {
  "kernelspec": {
   "display_name": "Python 2",
   "language": "python",
   "name": "python2"
  },
  "language_info": {
   "codemirror_mode": {
    "name": "ipython",
    "version": 2
   },
   "file_extension": ".py",
   "mimetype": "text/x-python",
   "name": "python",
   "nbconvert_exporter": "python",
   "pygments_lexer": "ipython2",
   "version": "2.7.10"
  }
 },
 "nbformat": 4,
 "nbformat_minor": 0
}
