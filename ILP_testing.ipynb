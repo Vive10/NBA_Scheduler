{
 "cells": [
  {
   "cell_type": "code",
   "execution_count": 71,
   "metadata": {
    "collapsed": false
   },
   "outputs": [],
   "source": [
    "import pulp\n",
    "import datagen as dgen\n",
    "import organization as org\n",
    "import itertools\n",
    "import numpy as np\n",
    "\n",
    "def create_var_string(value):\n",
    "    # Input in a 3-element-tuple\n",
    "    return str(value[0])+'-'+str(value[1])+'-'+str(value[2])\n",
    "\n",
    "# Get a list of teams\n",
    "team_list = []\n",
    "data = dgen.DataGen(2015)\n",
    "conferences = data.league.conferences\n",
    "for key in conferences.keys():\n",
    "    conf = conferences[key]\n",
    "    for div in conf.divisions.keys():\n",
    "        teams = conf.divisions[div].teams\n",
    "        for team in teams.keys():\n",
    "            team_list.append(teams[team])"
   ]
  },
  {
   "cell_type": "code",
   "execution_count": 72,
   "metadata": {
    "collapsed": false
   },
   "outputs": [
    {
     "name": "stdout",
     "output_type": "stream",
     "text": [
      "('Adding conditions for ', 'Thunder')\n",
      "('Adding conditions for ', 'Jazz')\n",
      "('Adding conditions for ', 'Timberwolves')\n",
      "('Adding conditions for ', 'Nuggets')\n",
      "('Adding conditions for ', 'Trailblazers')\n",
      "('Adding conditions for ', 'Warriors')\n",
      "('Adding conditions for ', 'Kings')\n",
      "('Adding conditions for ', 'Lakers')\n",
      "('Adding conditions for ', 'Clippers')\n",
      "('Adding conditions for ', 'Suns')\n",
      "('Adding conditions for ', 'Rockets')\n",
      "('Adding conditions for ', 'Grizzlies')\n",
      "('Adding conditions for ', 'Mavericks')\n",
      "('Adding conditions for ', 'Spurs')\n",
      "('Adding conditions for ', 'Pelicans')\n",
      "('Adding conditions for ', 'Bucks')\n",
      "('Adding conditions for ', 'Pistons')\n",
      "('Adding conditions for ', 'Pacers')\n",
      "('Adding conditions for ', 'Bulls')\n",
      "('Adding conditions for ', 'Cavaliers')\n",
      "('Adding conditions for ', 'Celtics')\n",
      "('Adding conditions for ', 'Nets')\n",
      "('Adding conditions for ', '76ers')\n",
      "('Adding conditions for ', 'Raptors')\n",
      "('Adding conditions for ', 'Knicks')\n",
      "('Adding conditions for ', 'Magic')\n",
      "('Adding conditions for ', 'Heat')\n",
      "('Adding conditions for ', 'Hawks')\n",
      "('Adding conditions for ', 'Hornets')\n",
      "('Adding conditions for ', 'Wizards')\n"
     ]
    }
   ],
   "source": [
    "# Set number of games in the season\n",
    "num_games = 82          \n",
    "els = [tuple(x) for x in itertools.combinations(team_list, 2)]\n",
    "# Create dictionary where keys are string representations of games\n",
    "#    key: \"{team1name}_{team2name}_{gamenum}\"\n",
    "#    value: information about home team and away team and game number\n",
    "variable_dict = {}\n",
    "for key in els:\n",
    "    for idx in range(1,num_games+1):\n",
    "        variable_dict[create_var_string((key[0].name,key[1].name,idx))] = {'home':key[0].name,'away':key[1].name,'homeDiv':key[0].division.name,\\\n",
    "                                                                           'homeConf':key[0].division.conference.name,\\\n",
    "                                                                           'awayConf':key[1].division.conference.name,\\\n",
    "                                                                           'awayDiv':key[1].division.name,'value':0,'gameNum':idx}\n",
    "        variable_dict[create_var_string((key[1].name,key[0].name,idx))] = {'home':key[1].name,'away':key[0].name,'homeDiv':key[1].division.name,\\\n",
    "                                                                           'homeConf':key[1].division.conference.name,\\\n",
    "                                                                           'awayConf':key[0].division.conference.name,\\\n",
    "                                                                           'awayDiv':key[0].division.name,'value':0,'gameNum':idx}\n",
    "\n",
    "x = pulp.LpVariable.dict(\"Game\",variable_dict.keys(), lowBound=0, upBound=1, cat=pulp.LpInteger)\n",
    "#Creating LP Problem\n",
    "nba_schedule = pulp.LpProblem('NBA Schedule',pulp.LpMinimize)\n",
    "for team in team_list:\n",
    "    print(\"Adding conditions for \",team.name)\n",
    "    nba_schedule += sum([x[key] for key in variable_dict.keys() if variable_dict[key]['home'] == team.name \\\n",
    "            or variable_dict[key]['away'] == team.name]) == num_games\n",
    "    nba_schedule += sum([x[key] for key in variable_dict.keys() if variable_dict[key]['home'] == team.name])\\\n",
    "                         == num_games/2\n",
    "    nba_schedule += sum([x[key] for key in variable_dict.keys() if variable_dict[key]['away'] == team.name])\\\n",
    "                         == num_games/2\n",
    "    '''\n",
    "    nba_schedule += sum([x[key] for key in variable_dict.keys()\\\n",
    "                        if (variable_dict[key]['home'] == team.name or\\\n",
    "                        variable_dict[key]['away'] == team.name) and \\\n",
    "                        variable_dict[key]['homeDiv'] == variable_dict[key]['awayDiv']]) == 16\n",
    "    '''\n",
    "    # Adding constraints for away and home games in a division\n",
    "    for team_other in team_list:\n",
    "        if team_other.name != team.name:\n",
    "            nba_schedule += sum([x[key] for key in variable_dict.keys()\\\n",
    "                        if variable_dict[key]['homeDiv'] == variable_dict[key]['awayDiv'] and\\\n",
    "                        variable_dict[key]['away'] == team.name and \\\n",
    "                             variable_dict[key]['home'] == team_other.name]) == 2\n",
    "            nba_schedule += sum([x[key] for key in variable_dict.keys()\\\n",
    "                        if variable_dict[key]['homeDiv'] == variable_dict[key]['awayDiv'] and\\\n",
    "                        variable_dict[key]['home'] == team.name and\\\n",
    "                            variable_dict[key]['away'] == team_other.name]) == 2\n",
    "            #Out of conference teams\n",
    "            nba_schedule += sum([x[key] for key in variable_dict.keys()\\\n",
    "                        if variable_dict[key]['homeConf'] != variable_dict[key]['awayConf'] and\\\n",
    "                        variable_dict[key]['away'] == team.name and \\\n",
    "                             variable_dict[key]['home'] == team_other.name]) == 1\n",
    "            nba_schedule += sum([x[key] for key in variable_dict.keys()\\\n",
    "                        if variable_dict[key]['homeConf'] != variable_dict[key]['awayConf'] and\\\n",
    "                        variable_dict[key]['home'] == team.name and\\\n",
    "                            variable_dict[key]['away'] == team_other.name]) == 1\n",
    "    # Ensuring one team plays only once on a single matchday       \n",
    "    for num in range(1,num_games+1):\n",
    "        nba_schedule += sum([x[key] for key in variable_dict.keys()\\\n",
    "                            if (variable_dict[key]['home'] == team.name or\\\n",
    "                                variable_dict[key]['away'] == team.name) and \\\n",
    "                            variable_dict[key]['gameNum'] == num]) == 1\n",
    "    \n",
    "    # Adding constraints for playing 4 games against the 6 selected out-of-division in-conference opponents\n",
    "    \n",
    "    teams_in_conf = set(team.division.conference.teams())\n",
    "    assert(len(teams_in_conf) == 15)\n",
    "    teams_in_div = set(team.division.teams.values())\n",
    "    assert(len(teams_in_div) == 5)\n",
    "    for team_other in team.conf_opponents:\n",
    "        \n",
    "        nba_schedule += sum([x[key] for key in variable_dict.keys()\\\n",
    "                        if variable_dict[key]['away'] == team.name and \\\n",
    "                             variable_dict[key]['home'] == team_other.name]) == 2\n",
    "        nba_schedule += sum([x[key] for key in variable_dict.keys()\\\n",
    "                        if variable_dict[key]['home'] == team.name and \\\n",
    "                             variable_dict[key]['away'] == team_other.name]) == 2\n",
    "    \n",
    "    # Adding constraints 3 games against the 4 remaining out-of-division in-conference teams    \n",
    "    remaining_in_conf_teams = teams_in_conf - teams_in_div - team.conf_opponents\n",
    "    assert len(remaining_in_conf_teams) == 4\n",
    "    for team_other in remaining_in_conf_teams:\n",
    "        nba_schedule += sum([x[key] for key in variable_dict.keys()\\\n",
    "                        if variable_dict[key]['away'] == team.name and \\\n",
    "                             variable_dict[key]['home'] == team_other.name]) <= 2\n",
    "        nba_schedule += sum([x[key] for key in variable_dict.keys()\\\n",
    "                        if ((variable_dict[key]['away'] == team.name and \\\n",
    "                             variable_dict[key]['home'] == team_other.name) or (variable_dict[key]['home'] == team.name and \\\n",
    "                             variable_dict[key]['away'] == team_other.name))]) == 3"
   ]
  },
  {
   "cell_type": "code",
   "execution_count": null,
   "metadata": {
    "collapsed": true
   },
   "outputs": [],
   "source": [
    "'''            \n",
    "for key in variable_dict.keys():\n",
    "    home = variable_dict[key]['home']\n",
    "    away = variable_dict[key]['away']\n",
    "    game_no = variable_dict[key]['gameNum']\n",
    "    rev_key = create_var_string((away,home,game_no))\n",
    "    nba_schedule += sum([x[key]+x[rev_key]]) <= 1\n",
    "\n",
    "        for gameNum in range(1,num_games+1):    \n",
    "            nba_schedule += sum([x[key] for key in variable_dict.keys()\\\n",
    "                        if variable_dict[key]['homeDiv'] == variable_dict[key]['awayDiv'] and\\\n",
    "                        variable_dict[key]['home'] == team.name and\\\n",
    "                            variable_dict[key]['away'] == team_other.name\\\n",
    "                                and variable_dict[key]['gameNum'] == gameNum]) <= 1\n",
    "'''"
   ]
  },
  {
   "cell_type": "code",
   "execution_count": null,
   "metadata": {
    "collapsed": false
   },
   "outputs": [],
   "source": [
    "print(\"Solving\")\n",
    "%time nba_schedule.solve(pulp.solvers.GUROBI_CMD())"
   ]
  },
  {
   "cell_type": "code",
   "execution_count": 116,
   "metadata": {
    "collapsed": true
   },
   "outputs": [],
   "source": [
    "#Saving the LP object\n",
    "nba_schedule.writeLP(\"nba_schedule.lp\")"
   ]
  },
  {
   "cell_type": "code",
   "execution_count": 13,
   "metadata": {
    "collapsed": false
   },
   "outputs": [],
   "source": [
    "list_celtics = []\n",
    "for key in variable_dict.keys():\n",
    "    if (variable_dict[key]['home'] == 'Celtics' or variable_dict[key]['away'] == 'Celtics') and x[key].value() != 0:\n",
    "         list_celtics.append((key,x[key].value(),variable_dict[key]['gameNum']))"
   ]
  },
  {
   "cell_type": "code",
   "execution_count": 14,
   "metadata": {
    "collapsed": false
   },
   "outputs": [
    {
     "data": {
      "text/plain": [
       "[('Celtics-Trailblazers-1', 1.0, 1),\n",
       " ('Spurs-Celtics-2', 1.0, 2),\n",
       " ('Celtics-Heat-3', 1.0, 3),\n",
       " ('Clippers-Celtics-4', 1.0, 4),\n",
       " ('Bucks-Celtics-5', 1.0, 5),\n",
       " ('76ers-Celtics-6', 1.0, 6),\n",
       " ('Hornets-Celtics-7', 1.0, 7),\n",
       " ('Celtics-Cavaliers-8', 1.0, 8),\n",
       " ('Pistons-Celtics-9', 1.0, 9),\n",
       " ('Celtics-Suns-10', 1.0, 10),\n",
       " ('Celtics-Pelicans-11', 1.0, 11),\n",
       " ('Magic-Celtics-12', 1.0, 12),\n",
       " ('Celtics-Pacers-13', 1.0, 13),\n",
       " ('Celtics-Bulls-14', 1.0, 14),\n",
       " ('Celtics-Rockets-15', 1.0, 15),\n",
       " ('Celtics-Hawks-16', 1.0, 16),\n",
       " ('Pacers-Celtics-17', 1.0, 17),\n",
       " ('Pacers-Celtics-18', 1.0, 18),\n",
       " ('Celtics-Nets-19', 1.0, 19),\n",
       " ('Trailblazers-Celtics-20', 1.0, 20),\n",
       " ('Celtics-Hawks-21', 1.0, 21),\n",
       " ('Celtics-Grizzlies-22', 1.0, 22),\n",
       " ('Celtics-Nets-23', 1.0, 23),\n",
       " ('Grizzlies-Celtics-24', 1.0, 24),\n",
       " ('Bulls-Celtics-25', 1.0, 25),\n",
       " ('Wizards-Celtics-26', 1.0, 26),\n",
       " ('76ers-Celtics-27', 1.0, 27),\n",
       " ('Celtics-76ers-28', 1.0, 28),\n",
       " ('Mavericks-Celtics-29', 1.0, 29),\n",
       " ('Heat-Celtics-30', 1.0, 30),\n",
       " ('Celtics-Timberwolves-31', 1.0, 31),\n",
       " ('Celtics-Pistons-32', 1.0, 32),\n",
       " ('Magic-Celtics-33', 1.0, 33),\n",
       " ('Celtics-Pistons-34', 1.0, 34),\n",
       " ('Celtics-Clippers-35', 1.0, 35),\n",
       " ('Knicks-Celtics-36', 1.0, 36),\n",
       " ('Knicks-Celtics-37', 1.0, 37),\n",
       " ('Celtics-Hornets-38', 1.0, 38),\n",
       " ('Celtics-Knicks-39', 1.0, 39),\n",
       " ('Hawks-Celtics-40', 1.0, 40),\n",
       " ('Celtics-Raptors-41', 1.0, 41),\n",
       " ('Celtics-Bulls-42', 1.0, 42),\n",
       " ('Raptors-Celtics-43', 1.0, 43),\n",
       " ('Warriors-Celtics-44', 1.0, 44),\n",
       " ('Celtics-Nuggets-45', 1.0, 45),\n",
       " ('Celtics-Magic-46', 1.0, 46),\n",
       " ('Heat-Celtics-47', 1.0, 47),\n",
       " ('Celtics-76ers-48', 1.0, 48),\n",
       " ('Timberwolves-Celtics-49', 1.0, 49),\n",
       " ('Thunder-Celtics-50', 1.0, 50),\n",
       " ('Nets-Celtics-51', 1.0, 51),\n",
       " ('Celtics-Knicks-52', 1.0, 52),\n",
       " ('Celtics-Magic-53', 1.0, 53),\n",
       " ('Celtics-Wizards-54', 1.0, 54),\n",
       " ('Celtics-Hornets-55', 1.0, 55),\n",
       " ('Hornets-Celtics-56', 1.0, 56),\n",
       " ('Celtics-Bucks-57', 1.0, 57),\n",
       " ('Celtics-Mavericks-58', 1.0, 58),\n",
       " ('Pelicans-Celtics-59', 1.0, 59),\n",
       " ('Celtics-Heat-60', 1.0, 60),\n",
       " ('Cavaliers-Celtics-61', 1.0, 61),\n",
       " ('Celtics-Raptors-62', 1.0, 62),\n",
       " ('Lakers-Celtics-63', 1.0, 63),\n",
       " ('Celtics-Pacers-64', 1.0, 64),\n",
       " ('Suns-Celtics-65', 1.0, 65),\n",
       " ('Celtics-Kings-66', 1.0, 66),\n",
       " ('Nets-Celtics-67', 1.0, 67),\n",
       " ('Cavaliers-Celtics-68', 1.0, 68),\n",
       " ('Kings-Celtics-69', 1.0, 69),\n",
       " ('Celtics-Warriors-70', 1.0, 70),\n",
       " ('Celtics-Spurs-71', 1.0, 71),\n",
       " ('Jazz-Celtics-72', 1.0, 72),\n",
       " ('Raptors-Celtics-73', 1.0, 73),\n",
       " ('Rockets-Celtics-74', 1.0, 74),\n",
       " ('Nuggets-Celtics-75', 1.0, 75),\n",
       " ('Bucks-Celtics-76', 1.0, 76),\n",
       " ('Celtics-Jazz-77', 1.0, 77),\n",
       " ('Wizards-Celtics-78', 1.0, 78),\n",
       " ('Bulls-Celtics-79', 1.0, 79),\n",
       " ('Celtics-Thunder-80', 1.0, 80),\n",
       " ('Celtics-Lakers-81', 1.0, 81),\n",
       " ('Celtics-Cavaliers-82', 1.0, 82)]"
      ]
     },
     "execution_count": 14,
     "metadata": {},
     "output_type": "execute_result"
    }
   ],
   "source": [
    "sorted(list_celtics,key=lambda x: x[2])"
   ]
  },
  {
   "cell_type": "markdown",
   "metadata": {},
   "source": [
    "#### Generating file to which is to be saved as json."
   ]
  },
  {
   "cell_type": "code",
   "execution_count": 15,
   "metadata": {
    "collapsed": false
   },
   "outputs": [],
   "source": [
    "team_dict = {}\n",
    "for team in team_list:\n",
    "    team_dict[team.name] = team"
   ]
  },
  {
   "cell_type": "code",
   "execution_count": 16,
   "metadata": {
    "collapsed": false
   },
   "outputs": [],
   "source": [
    "schedule_dict={}\n",
    "key_list = variable_dict.keys()\n",
    "for key in key_list:\n",
    "    if x[key].value() != 0:\n",
    "        home = variable_dict[key]['home']\n",
    "        away = variable_dict[key]['away']\n",
    "        game_no = variable_dict[key]['gameNum']\n",
    "        rev_key = create_var_string((away,home,game_no))\n",
    "        key_list.remove(rev_key)\n",
    "for key in key_list:\n",
    "    if x[key].value() != 0:\n",
    "        schedule_dict[(team_dict[variable_dict[key]['home']],variable_dict[key]['gameNum'])]\\\n",
    "        = (team_dict[variable_dict[key]['away']],'home')\n",
    "        schedule_dict[(team_dict[variable_dict[key]['away']],variable_dict[key]['gameNum'])]\\\n",
    "        = (team_dict[variable_dict[key]['home']],'away')"
   ]
  },
  {
   "cell_type": "code",
   "execution_count": 42,
   "metadata": {
    "collapsed": false
   },
   "outputs": [],
   "source": [
    "key_list = variable_dict.keys()\n",
    "Venues = []\n",
    "for key in key_list:\n",
    "    match = {}\n",
    "    if x[key].value() != 0:\n",
    "        home = variable_dict[key]['home']\n",
    "        away = variable_dict[key]['away']\n",
    "        gameNum = variable_dict[key]['gameNum']\n",
    "        first_team = min(home,away)\n",
    "        second_team = max(home,away)\n",
    "        if first_team == home:\n",
    "            value = True\n",
    "        else:\n",
    "            value = False\n",
    "        match[\"key\"] = [first_team, second_team, gameNum]\n",
    "        match[\"value\"] = value\n",
    "        Venues.append(match)"
   ]
  },
  {
   "cell_type": "code",
   "execution_count": 25,
   "metadata": {
    "collapsed": false
   },
   "outputs": [],
   "source": [
    "Matchup = []\n",
    "for key in schedule_dict.keys():\n",
    "    match = {}\n",
    "    team_1 = key[0].name\n",
    "    gameNum = key[1]\n",
    "    team_2 = schedule_dict[key][0].name\n",
    "    match[\"key\"] = [team_1,gameNum]\n",
    "    match[\"value\"] = team_2\n",
    "    Matchup.append(match)"
   ]
  },
  {
   "cell_type": "code",
   "execution_count": 45,
   "metadata": {
    "collapsed": true
   },
   "outputs": [],
   "source": [
    "#Saving Matchup and Venues\n",
    "import json\n",
    "with open('Matchups.json', 'w') as outfile:\n",
    "    json.dump(Matchup, outfile)\n",
    "with open('Venues.json', 'w') as outfile:\n",
    "    json.dump(Venues, outfile)"
   ]
  },
  {
   "cell_type": "code",
   "execution_count": 50,
   "metadata": {
    "collapsed": false
   },
   "outputs": [],
   "source": [
    "#Saving the schedule directory\n",
    "import pickle\n",
    "with open('nba_schedule.pickle', 'wb') as handle:\n",
    "    pickle.dump(schedule_dict, handle)"
   ]
  },
  {
   "cell_type": "code",
   "execution_count": 51,
   "metadata": {
    "collapsed": false
   },
   "outputs": [],
   "source": [
    "#Importing the schedule directory\n",
    "import pickle\n",
    "with open('nba_schedule.pickle','rb') as handle:\n",
    "    new_schedule_dict = pickle.load(handle)"
   ]
  },
  {
   "cell_type": "markdown",
   "metadata": {},
   "source": [
    "#### Running Tests"
   ]
  },
  {
   "cell_type": "code",
   "execution_count": 49,
   "metadata": {
    "collapsed": false
   },
   "outputs": [
    {
     "name": "stdout",
     "output_type": "stream",
     "text": [
      "Test passed for: Heat\n",
      "Test passed for: Celtics\n",
      "Test passed for: Bulls\n",
      "Test passed for: Raptors\n",
      "Test passed for: Nets\n",
      "Test passed for: Thunder\n",
      "Test passed for: Nuggets\n",
      "Test passed for: Jazz\n",
      "Test passed for: 76ers\n",
      "Test passed for: Spurs\n",
      "Test passed for: Kings\n",
      "Test passed for: Rockets\n",
      "Test passed for: Hawks\n",
      "Test passed for: Suns\n",
      "Test passed for: Trailblazers\n",
      "Test passed for: Magic\n",
      "Test passed for: Wizards\n",
      "Test passed for: Mavericks\n",
      "Test passed for: Clippers\n",
      "Test passed for: Timberwolves\n",
      "Test passed for: Bucks\n",
      "Test passed for: Pacers\n",
      "Test passed for: Hornets\n",
      "Test passed for: Lakers\n",
      "Test passed for: Warriors\n",
      "Test passed for: Grizzlies\n",
      "Test passed for: Cavaliers\n",
      "Test passed for: Knicks\n",
      "Test passed for: Pelicans\n",
      "Test passed for: Pistons\n",
      "All tests passed\n"
     ]
    }
   ],
   "source": [
    "from schedule_tests import *\n",
    "schedule_test(new_schedule_dict,82)"
   ]
  },
  {
   "cell_type": "code",
   "execution_count": 112,
   "metadata": {
    "collapsed": false
   },
   "outputs": [],
   "source": [
    "##Local copy of the function\n",
    "def schedule_tests(schedule_dict,num_games):\n",
    "    teams = set(map(lambda x:x[0],schedule_dict.keys()))\n",
    "    teamNames = set(map(lambda x:x[0].name,schedule_dict.keys()))\n",
    "    for team in teams:\n",
    "        #print \"Testing schedule for:\",team.name\n",
    "        home_count = 0\n",
    "        away_count = 0\n",
    "        home_cdiv = {}\n",
    "        away_cdiv = {}\n",
    "        total_cdiv = {}\n",
    "        home_div = {}\n",
    "        away_div = {}\n",
    "        total_div = {}\n",
    "        home_oconf = {}\n",
    "        away_oconf = {}\n",
    "        total_oconf = {}\n",
    "        home_odiv = {}\n",
    "        away_odiv = {}\n",
    "        total_odiv = {}\n",
    "        for conf_team in team.conf_opponents:\n",
    "            home_cdiv[conf_team.name] = 0\n",
    "            away_cdiv[conf_team.name] = 0\n",
    "            total_cdiv[conf_team.name] = 0\n",
    "        for div in team.division.teams:\n",
    "            if div != team.name:\n",
    "                home_div[div] = 0\n",
    "                away_div[div] = 0\n",
    "                total_div[div] = 0\n",
    "        out_conf_set = set(teams) - set(team.division.conference.teams())\n",
    "        for out_conf in out_conf_set:\n",
    "            home_oconf[out_conf.name] = 0\n",
    "            away_oconf[out_conf.name] = 0\n",
    "            total_oconf[out_conf.name] = 0\n",
    "        out_div_set = set(team.division.conference.teams()) - set(team.conf_opponents) - set(team.division.teams.values())\n",
    "        for out_div in out_div_set:\n",
    "            home_odiv[out_div.name] = 0\n",
    "            away_odiv[out_div.name] = 0\n",
    "            total_odiv[out_div.name] = 0\n",
    "        #Running through all the games:\n",
    "        for num in range(1,num_games+1):\n",
    "            (opponent,g_type) = schedule_dict[(team,num)]\n",
    "            \n",
    "            if g_type == 'away':\n",
    "                other = 'home'\n",
    "            else:\n",
    "                other = 'away'\n",
    "            assert(schedule_dict[(opponent,num)] == (team,other))\n",
    "            if g_type == 'home':\n",
    "                home_count +=1\n",
    "            else:\n",
    "                away_count +=1\n",
    "            if opponent in team.conf_opponents:\n",
    "                if g_type == 'home':\n",
    "                    home_cdiv[opponent.name] +=1\n",
    "                    total_cdiv[opponent.name] +=1\n",
    "                else:\n",
    "                    away_cdiv[opponent.name] +=1\n",
    "                    total_cdiv[opponent.name] +=1\n",
    "            if opponent in out_conf_set:\n",
    "                if g_type == 'home':\n",
    "                    home_oconf[opponent.name] +=1\n",
    "                    total_oconf[opponent.name] +=1\n",
    "                else:\n",
    "                    away_oconf[opponent.name] +=1\n",
    "                    total_oconf[opponent.name] +=1\n",
    "                    \n",
    "            if opponent.name in team.division.teams:\n",
    "                if g_type == 'home':\n",
    "                    home_div[opponent.name] +=1\n",
    "                    total_div[opponent.name] +=1\n",
    "                else:\n",
    "                    away_div[opponent.name] +=1\n",
    "                    total_div[opponent.name] +=1\n",
    "            \n",
    "            if opponent in out_div_set:\n",
    "                if g_type == 'home':\n",
    "                    home_odiv[opponent.name] +=1\n",
    "                    total_odiv[opponent.name] +=1\n",
    "                else:\n",
    "                    away_odiv[opponent.name] +=1\n",
    "                    total_odiv[opponent.name] +=1\n",
    "        \n",
    "        #Checking out of conference:\n",
    "        assert(list_compare(1, home_oconf.values()) == True)\n",
    "        assert(list_compare(1, away_oconf.values()) == True)\n",
    "        assert(list_compare(2, total_oconf.values()) == True)\n",
    "        \n",
    "        #Checking in 3 game teams:\n",
    "        assert(list_compare(3, total_odiv.values()) == True)\n",
    "        assert(all(i <= 2 for i in home_odiv.values()) == True)\n",
    "        assert(all(i >= 1 for i in home_odiv.values()) == True)\n",
    "        assert(all(i <= 2 for i in away_odiv.values()) == True)\n",
    "        assert(all(i >= 1 for i in away_odiv.values()) == True)\n",
    "        \n",
    "        #Checking in division:\n",
    "        assert(list_compare(2, home_div.values()) == True)\n",
    "        assert(list_compare(2, away_div.values()) == True)\n",
    "        assert(list_compare(4, total_div.values()) == True)\n",
    "        \n",
    "        #Checking in conference:\n",
    "        assert(list_compare(2, home_cdiv.values()) == True)\n",
    "        assert(list_compare(2, away_cdiv.values()) == True)\n",
    "        assert(list_compare(4, total_cdiv.values()) == True)\n",
    "        \n",
    "        #Checking number of home and away games:\n",
    "        assert(home_count == num_games/2)\n",
    "        assert(away_count == num_games/2)\n",
    "        print 'Test passed for:',team.name\n",
    "    print 'All tests passed'"
   ]
  },
  {
   "cell_type": "code",
   "execution_count": 85,
   "metadata": {
    "collapsed": true
   },
   "outputs": [],
   "source": [
    "def list_compare(ref_value,list_check):\n",
    "    for elem in list_check:\n",
    "        if elem != ref_value:\n",
    "            return False\n",
    "    return True"
   ]
  },
  {
   "cell_type": "markdown",
   "metadata": {},
   "source": [
    "#### Testing on a smaller subset"
   ]
  },
  {
   "cell_type": "code",
   "execution_count": 41,
   "metadata": {
    "collapsed": false
   },
   "outputs": [],
   "source": [
    "def gen_dates(num_dates):\n",
    "    home_dates = []\n",
    "    indices = range(1,num_dates+1)\n",
    "    skip = 5\n",
    "    for i in range(len(indices))[::skip]:\n",
    "        slice_len = len(indices[i:i+skip])\n",
    "        num_pick = 2 if slice_len == skip else 1\n",
    "        dates = np.random.choice(indices[i:i+skip], num_pick, replace=False)\n",
    "        dates.sort()\n",
    "        home_dates += list(dates)\n",
    "    return set(home_dates)"
   ]
  },
  {
   "cell_type": "code",
   "execution_count": 42,
   "metadata": {
    "collapsed": false
   },
   "outputs": [],
   "source": [
    "league = {'A1':'A','A2':'A','A3':'A','A4':'A','B1':'B','B2':'B','B3':'B','B4':'B'}\n",
    "num_games = 12\n",
    "num_dates = 20\n",
    "game_dates = range(1,num_dates+1)\n",
    "league_home_dates = {}\n",
    "for key in league.keys():\n",
    "    league_home_dates[key] = gen_dates(num_dates) \n",
    "els = [tuple(x) for x in itertools.combinations(league.keys(), 2)]\n",
    "team_list = league.keys()\n",
    "variable_dict = {}\n",
    "for key in els:\n",
    "    for date in league_home_dates[key[0]]:\n",
    "        variable_dict[create_var_string((key[0],key[1],date))] = {'home':key[0],'away':key[1],'homeDiv':league[key[0]],\\\n",
    "                                                                       'awayDiv':league[key[1]],'value':0,\\\n",
    "                                                             'pos_date':date}\n",
    "    for date in league_home_dates[key[1]]:\n",
    "        variable_dict[create_var_string((key[1],key[0],date))] = {'home':key[1],'away':key[0],'homeDiv':league[key[1]],\\\n",
    "                                                                       'awayDiv':league[key[0]],'value':0,\\\n",
    "                                                             'pos_date':date}"
   ]
  },
  {
   "cell_type": "code",
   "execution_count": 88,
   "metadata": {
    "collapsed": true
   },
   "outputs": [],
   "source": [
    "def create_var_string(value):\n",
    "    # Input in a 3-element-tuple\n",
    "    return str(value[0])+'-'+str(value[1])+'-'+str(value[2])"
   ]
  },
  {
   "cell_type": "code",
   "execution_count": 51,
   "metadata": {
    "collapsed": false
   },
   "outputs": [
    {
     "name": "stdout",
     "output_type": "stream",
     "text": [
      "('Adding conditions for ', 'A1')\n",
      "('Adding conditions for ', 'B4')\n",
      "('Adding conditions for ', 'A3')\n",
      "('Adding conditions for ', 'A2')\n",
      "('Adding conditions for ', 'A4')\n",
      "('Adding conditions for ', 'B2')\n",
      "('Adding conditions for ', 'B3')\n",
      "('Adding conditions for ', 'B1')\n"
     ]
    }
   ],
   "source": [
    "x = pulp.LpVariable.dict(\"Game\",variable_dict.keys(), lowBound=0, upBound=1, cat=pulp.LpInteger)\n",
    "#Creating LP Problem\n",
    "test_schedule = pulp.LpProblem('Test Schedule',pulp.LpMinimize)\n",
    "for team in team_list:\n",
    "    print(\"Adding conditions for \",team)\n",
    "    test_schedule += sum([x[key] for key in variable_dict.keys() if variable_dict[key]['home'] == team \\\n",
    "            or variable_dict[key]['away'] == team]) == num_games\n",
    "    for team_other in team_list:\n",
    "        if team_other != team:\n",
    "            test_schedule += sum([x[key] for key in variable_dict.keys()\\\n",
    "                        if variable_dict[key]['homeDiv'] == variable_dict[key]['awayDiv'] and\\\n",
    "                        variable_dict[key]['away'] == team and \\\n",
    "                             variable_dict[key]['home'] == team_other]) == 2\n",
    "            \n",
    "            test_schedule += sum([x[key] for key in variable_dict.keys()\\\n",
    "                        if variable_dict[key]['homeDiv'] == variable_dict[key]['awayDiv'] and\\\n",
    "                        variable_dict[key]['home'] == team and\\\n",
    "                            variable_dict[key]['away'] == team_other]) == 2\n",
    "    dates = league_home_dates[team]       \n",
    "    test_schedule += sum([x[key] for key in variable_dict.keys()\\\n",
    "                         if variable_dict[key]['pos_date'] in dates and\n",
    "                         variable_dict[key]['home'] == team]) == num_games/2\n",
    "    for date in range(1,num_dates+1):\n",
    "        test_schedule += sum([x[key] for key in variable_dict.keys()\\\n",
    "                            if (variable_dict[key]['home'] == team or\\\n",
    "                                variable_dict[key]['away'] == team) and \\\n",
    "                            variable_dict[key]['pos_date'] == date]) <= 1\n",
    "    #Adding 3 games in 5 days constraints.\n",
    "    continuous_games = 5\n",
    "    all_dates = range(1,num_dates+1)\n",
    "    for idx in range(continuous_games,num_dates+1):\n",
    "        date_range = all_dates[idx-continuous_games:idx]\n",
    "        test_schedule += sum([x[key] for key in variable_dict.keys()\\\n",
    "                            if (variable_dict[key]['home'] == team or\\\n",
    "                                variable_dict[key]['away'] == team) and \\\n",
    "                            variable_dict[key]['pos_date'] in date_range]) < 4\n",
    "    '''      \n",
    "    for num in range(1,num_dates+1):\n",
    "        test_schedule += sum([x[key] for key in variable_dict.keys()\\\n",
    "                            if (variable_dict[key]['home'] == team or variable_dict[key]['away'] == team) and \\\n",
    "                            variable_dict[key]['pos_date'] == num]) < 2\n",
    "    '''"
   ]
  },
  {
   "cell_type": "code",
   "execution_count": 67,
   "metadata": {
    "collapsed": false
   },
   "outputs": [
    {
     "data": {
      "text/plain": [
       "1"
      ]
     },
     "execution_count": 67,
     "metadata": {},
     "output_type": "execute_result"
    }
   ],
   "source": [
    "test_schedule.solve(pulp.solvers.GUROBI_CMD())"
   ]
  },
  {
   "cell_type": "code",
   "execution_count": 68,
   "metadata": {
    "collapsed": false
   },
   "outputs": [
    {
     "name": "stdout",
     "output_type": "stream",
     "text": [
      "\t Testing zero subtraction\n",
      "\t Testing inconsistant lp solution\n",
      "\t Testing continuous LP solution\n",
      "\t Testing maximize continuous LP solution\n",
      "\t Testing unbounded continuous LP solution\n",
      "\t Testing Long Names\n",
      "\t Testing repeated Names\n",
      "\t Testing zero constraint\n",
      "\t Testing zero objective\n",
      "\t Testing LpVariable (not LpAffineExpression) objective\n",
      "\t Testing Long lines in LP\n",
      "\t Testing LpAffineExpression divide\n",
      "\t Testing MIP solution\n",
      "\t Testing MIP solution with floats in objective\n",
      "\t Testing MIP relaxation\n",
      "\t Testing feasibility problem (no objective)\n",
      "\t Testing an infeasible problem\n",
      "\t Testing an integer infeasible problem\n",
      "\t Testing column based modelling\n",
      "\t Testing dual variables and slacks reporting\n",
      "\t Testing fractional constraints\n",
      "\t Testing elastic constraints (no change)\n",
      "\t Testing elastic constraints (freebound)\n",
      "\t Testing elastic constraints (penalty unchanged)\n",
      "\t Testing elastic constraints (penalty unbounded)\n",
      "* Solver pulp.solvers.PULP_CBC_CMD passed.\n",
      "Solver pulp.solvers.CPLEX_DLL unavailable\n",
      "Solver pulp.solvers.CPLEX_CMD unavailable\n",
      "Solver pulp.solvers.CPLEX_PY unavailable\n",
      "Solver pulp.solvers.COIN_CMD unavailable\n",
      "Solver pulp.solvers.COINMP_DLL unavailable\n",
      "Solver pulp.solvers.GLPK_CMD unavailable\n",
      "Solver pulp.solvers.XPRESS unavailable\n",
      "Solver pulp.solvers.GUROBI unavailable\n",
      "\t Testing zero subtraction\n",
      "\t Testing inconsistant lp solution\n",
      "\t Testing continuous LP solution\n",
      "\t Testing maximize continuous LP solution\n",
      "\t Testing unbounded continuous LP solution\n",
      "\t Testing Long Names\n",
      "\t Testing repeated Names\n",
      "\t Testing zero constraint\n",
      "\t Testing zero objective\n",
      "\t Testing LpVariable (not LpAffineExpression) objective\n",
      "\t Testing LpAffineExpression divide\n",
      "\t Testing MIP solution\n",
      "\t Testing MIP solution with floats in objective\n",
      "\t Testing MIP relaxation\n",
      "\t Testing feasibility problem (no objective)\n",
      "\t Testing an infeasible problem\n",
      "\t Testing an integer infeasible problem\n",
      "\t Testing column based modelling\n",
      "\t Testing fractional constraints\n",
      "\t Testing elastic constraints (no change)\n",
      "\t Testing elastic constraints (freebound)\n",
      "\t Testing elastic constraints (penalty unchanged)\n",
      "\t Testing elastic constraints (penalty unbounded)\n",
      "* Solver pulp.solvers.GUROBI_CMD passed.\n",
      "Solver pulp.solvers.PYGLPK unavailable\n",
      "Solver pulp.solvers.YAPOSIB unavailable\n"
     ]
    }
   ],
   "source": [
    "pulp.pulpTestAll()"
   ]
  },
  {
   "cell_type": "code",
   "execution_count": 69,
   "metadata": {
    "collapsed": false,
    "scrolled": true
   },
   "outputs": [
    {
     "name": "stdout",
     "output_type": "stream",
     "text": [
      "('A2-A4-20', 1.0)\n",
      "('A4-A2-4', 1.0)\n",
      "('A3-A2-7', 1.0)\n",
      "('A3-A2-9', 1.0)\n",
      "('A2-A4-3', 1.0)\n",
      "('A2-A1-12', 1.0)\n",
      "('A2-A1-11', 1.0)\n",
      "('A2-A3-6', 1.0)\n",
      "('A2-A3-8', 1.0)\n",
      "('A4-A2-19', 1.0)\n",
      "('A1-A2-5', 1.0)\n",
      "('A1-A2-2', 1.0)\n"
     ]
    }
   ],
   "source": [
    "test_team = 'A2'\n",
    "for key in variable_dict.keys():\n",
    "    if (variable_dict[key]['home'] == test_team or variable_dict[key]['away'] == test_team)\\\n",
    "    and x[key].value() != 0:\n",
    "        print (key,x[key].value())"
   ]
  },
  {
   "cell_type": "code",
   "execution_count": 58,
   "metadata": {
    "collapsed": false
   },
   "outputs": [
    {
     "data": {
      "text/plain": [
       "{3, 5, 6, 8, 11, 12, 17, 20}"
      ]
     },
     "execution_count": 58,
     "metadata": {},
     "output_type": "execute_result"
    }
   ],
   "source": [
    "league_home_dates['A2']"
   ]
  },
  {
   "cell_type": "markdown",
   "metadata": {},
   "source": [
    "#### Setting up dates ILP"
   ]
  },
  {
   "cell_type": "code",
   "execution_count": 1,
   "metadata": {
    "collapsed": true
   },
   "outputs": [],
   "source": [
    "import pulp\n",
    "import datagen as dgen\n",
    "import organization as org\n",
    "import itertools\n",
    "import numpy as np\n",
    "\n",
    "def create_var_string(value):\n",
    "    # Input in a 3-element-tuple\n",
    "    return str(value[0])+'-'+str(value[1])+'-'+str(value[2])\n",
    "\n",
    "# Get a list of teams\n",
    "team_list = []\n",
    "data = dgen.DataGen(2015)\n",
    "conferences = data.league.conferences\n",
    "for key in conferences.keys():\n",
    "    conf = conferences[key]\n",
    "    for div in conf.divisions.keys():\n",
    "        teams = conf.divisions[div].teams\n",
    "        for team in teams.keys():\n",
    "            team_list.append(teams[team])"
   ]
  },
  {
   "cell_type": "code",
   "execution_count": 2,
   "metadata": {
    "collapsed": false
   },
   "outputs": [],
   "source": [
    "possible_game_dates = data.game_indices"
   ]
  },
  {
   "cell_type": "code",
   "execution_count": 3,
   "metadata": {
    "collapsed": false
   },
   "outputs": [
    {
     "data": {
      "text/plain": [
       "166"
      ]
     },
     "execution_count": 3,
     "metadata": {},
     "output_type": "execute_result"
    }
   ],
   "source": [
    "len(possible_game_dates)"
   ]
  },
  {
   "cell_type": "code",
   "execution_count": 4,
   "metadata": {
    "collapsed": true
   },
   "outputs": [],
   "source": [
    "# Set number of games in the season\n",
    "num_games = 82          \n",
    "els = [tuple(x) for x in itertools.combinations(team_list, 2)]\n",
    "# Create dictionary where keys are string representations of games\n",
    "#    key: \"{team1name}_{team2name}_{gamenum}\"\n",
    "#    value: information about home team and away team and game number\n",
    "variable_dict = {}\n",
    "for key in els:\n",
    "    for date in key[0].home_dates:\n",
    "        variable_dict[create_var_string((key[0].name,key[1].name,date))] = {'home':key[0].name,'away':key[1].name,'homeDiv':key[0].division.name,\\\n",
    "                                                                           'homeConf':key[0].division.conference.name,\\\n",
    "                                                                           'awayConf':key[1].division.conference.name,\\\n",
    "                                                                           'awayDiv':key[1].division.name,'value':0,'posDate':date}\n",
    "    for date in key[1].home_dates:\n",
    "        variable_dict[create_var_string((key[1].name,key[0].name,date))] = {'home':key[1].name,'away':key[0].name,'homeDiv':key[1].division.name,\\\n",
    "                                                                           'homeConf':key[1].division.conference.name,\\\n",
    "                                                                           'awayConf':key[0].division.conference.name,\\\n",
    "                                                                           'awayDiv':key[0].division.name,'value':0,'posDate':date}\n",
    "\n",
    "x = pulp.LpVariable.dict(\"Game\",variable_dict.keys(), lowBound=0, upBound=1, cat=pulp.LpInteger)"
   ]
  },
  {
   "cell_type": "code",
   "execution_count": 25,
   "metadata": {
    "collapsed": false
   },
   "outputs": [
    {
     "name": "stdout",
     "output_type": "stream",
     "text": [
      "('Adding conditions for ', 'Thunder')\n",
      "('Adding conditions for ', 'Jazz')\n",
      "('Adding conditions for ', 'Timberwolves')\n",
      "('Adding conditions for ', 'Nuggets')\n",
      "('Adding conditions for ', 'Trailblazers')\n",
      "('Adding conditions for ', 'Warriors')\n",
      "('Adding conditions for ', 'Kings')\n",
      "('Adding conditions for ', 'Lakers')\n",
      "('Adding conditions for ', 'Clippers')\n",
      "('Adding conditions for ', 'Suns')\n",
      "('Adding conditions for ', 'Rockets')\n",
      "('Adding conditions for ', 'Grizzlies')\n",
      "('Adding conditions for ', 'Mavericks')\n",
      "('Adding conditions for ', 'Spurs')\n",
      "('Adding conditions for ', 'Pelicans')\n",
      "('Adding conditions for ', 'Bucks')\n",
      "('Adding conditions for ', 'Pistons')\n",
      "('Adding conditions for ', 'Pacers')\n",
      "('Adding conditions for ', 'Bulls')\n",
      "('Adding conditions for ', 'Cavaliers')\n",
      "('Adding conditions for ', 'Celtics')\n",
      "('Adding conditions for ', 'Nets')\n",
      "('Adding conditions for ', '76ers')\n",
      "('Adding conditions for ', 'Raptors')\n",
      "('Adding conditions for ', 'Knicks')\n",
      "('Adding conditions for ', 'Magic')\n",
      "('Adding conditions for ', 'Heat')\n",
      "('Adding conditions for ', 'Hawks')\n",
      "('Adding conditions for ', 'Hornets')\n",
      "('Adding conditions for ', 'Wizards')\n"
     ]
    }
   ],
   "source": [
    "nba_schedule2 = pulp.LpProblem('NBA Schedule',pulp.LpMinimize)\n",
    "for team in team_list:\n",
    "    print(\"Adding conditions for \",team.name)\n",
    "    nba_schedule2 += sum([x[key] for key in variable_dict.keys() if variable_dict[key]['home'] == team.name \\\n",
    "            or variable_dict[key]['away'] == team.name]) == num_games\n",
    "    nba_schedule2 += sum([x[key] for key in variable_dict.keys() if variable_dict[key]['home'] == team.name])\\\n",
    "                         == num_games/2\n",
    "    nba_schedule2 += sum([x[key] for key in variable_dict.keys() if variable_dict[key]['away'] == team.name])\\\n",
    "                         == num_games/2\n",
    "    '''\n",
    "    nba_schedule += sum([x[key] for key in variable_dict.keys()\\\n",
    "                        if (variable_dict[key]['home'] == team.name or\\\n",
    "                        variable_dict[key]['away'] == team.name) and \\\n",
    "                        variable_dict[key]['homeDiv'] == variable_dict[key]['awayDiv']]) == 16\n",
    "    '''\n",
    "    # Adding constraints for away and home games in a division\n",
    "    for team_other in team_list:\n",
    "        if team_other.name != team.name:\n",
    "            nba_schedule2 += sum([x[key] for key in variable_dict.keys()\\\n",
    "                        if variable_dict[key]['homeDiv'] == variable_dict[key]['awayDiv'] and\\\n",
    "                        variable_dict[key]['away'] == team.name and \\\n",
    "                             variable_dict[key]['home'] == team_other.name]) == 2\n",
    "            nba_schedule2 += sum([x[key] for key in variable_dict.keys()\\\n",
    "                        if variable_dict[key]['homeDiv'] == variable_dict[key]['awayDiv'] and\\\n",
    "                        variable_dict[key]['home'] == team.name and\\\n",
    "                            variable_dict[key]['away'] == team_other.name]) == 2\n",
    "            #Out of conference teams\n",
    "            nba_schedule2 += sum([x[key] for key in variable_dict.keys()\\\n",
    "                        if variable_dict[key]['homeConf'] != variable_dict[key]['awayConf'] and\\\n",
    "                        variable_dict[key]['away'] == team.name and \\\n",
    "                             variable_dict[key]['home'] == team_other.name]) == 1\n",
    "            nba_schedule2 += sum([x[key] for key in variable_dict.keys()\\\n",
    "                        if variable_dict[key]['homeConf'] != variable_dict[key]['awayConf'] and\\\n",
    "                        variable_dict[key]['home'] == team.name and\\\n",
    "                            variable_dict[key]['away'] == team_other.name]) == 1\n",
    "    # Ensuring one team plays only once on a single matchday       \n",
    "    for date in possible_game_dates:\n",
    "        nba_schedule2 += sum([x[key] for key in variable_dict.keys()\\\n",
    "                            if (variable_dict[key]['home'] == team.name or\\\n",
    "                                variable_dict[key]['away'] == team.name) and \\\n",
    "                            variable_dict[key]['posDate'] == date]) <= 1\n",
    "    #Adding no away game right after home gain constraints\n",
    "    num_dates = len(possible_game_dates)\n",
    "    for idx in range(num_dates-1):\n",
    "        nba_schedule2 += sum([x[key] for key in variable_dict.keys()\\\n",
    "                            if (variable_dict[key]['home'] == team.name and \\\n",
    "                            variable_dict[key]['posDate'] == idx)]) + \\\n",
    "                            sum([x[key] for key in variable_dict.keys()\\\n",
    "                            if (variable_dict[key]['away'] == team.name and \\\n",
    "                            variable_dict[key]['posDate'] == idx+1)]) <= 1\n",
    "        nba_schedule2 += sum([x[key] for key in variable_dict.keys()\\\n",
    "                            if (variable_dict[key]['away'] == team.name and \\\n",
    "                            variable_dict[key]['posDate'] == idx)]) + \\\n",
    "                            sum([x[key] for key in variable_dict.keys()\\\n",
    "                            if (variable_dict[key]['away'] == team.name and \\\n",
    "                            variable_dict[key]['posDate'] == idx+1)]) <= 1\n",
    "    #Adding 3 games in 5 days constraints.\n",
    "    continuous_games = 5\n",
    "    for idx in range(continuous_games,num_dates):\n",
    "        date_range = possible_game_dates[idx-continuous_games:idx]\n",
    "        nba_schedule2 += sum([x[key] for key in variable_dict.keys()\\\n",
    "                            if (variable_dict[key]['home'] == team.name or\\\n",
    "                                variable_dict[key]['away'] == team.name) and \\\n",
    "                            variable_dict[key]['posDate'] in date_range]) < 4\n",
    "    \n",
    "    # Adding constraints for playing 4 games against the 6 selected out-of-division in-conference opponents\n",
    "    \n",
    "    teams_in_conf = set(team.division.conference.teams())\n",
    "    assert(len(teams_in_conf) == 15)\n",
    "    teams_in_div = set(team.division.teams.values())\n",
    "    assert(len(teams_in_div) == 5)\n",
    "    for team_other in team.conf_opponents:\n",
    "        nba_schedule2 += sum([x[key] for key in variable_dict.keys()\\\n",
    "                        if variable_dict[key]['away'] == team.name and \\\n",
    "                             variable_dict[key]['home'] == team_other.name]) == 2\n",
    "        nba_schedule2 += sum([x[key] for key in variable_dict.keys()\\\n",
    "                        if variable_dict[key]['home'] == team.name and \\\n",
    "                             variable_dict[key]['away'] == team_other.name]) == 2\n",
    "    \n",
    "    # Adding constraints 3 games against the 4 remaining out-of-division in-conference teams    \n",
    "    remaining_in_conf_teams = teams_in_conf - teams_in_div - team.conf_opponents\n",
    "    assert len(remaining_in_conf_teams) == 4\n",
    "    for team_other in remaining_in_conf_teams:\n",
    "        nba_schedule2 += sum([x[key] for key in variable_dict.keys()\\\n",
    "                        if variable_dict[key]['away'] == team.name and \\\n",
    "                             variable_dict[key]['home'] == team_other.name]) <= 2\n",
    "        nba_schedule2 += sum([x[key] for key in variable_dict.keys()\\\n",
    "                        if ((variable_dict[key]['away'] == team.name and \\\n",
    "                             variable_dict[key]['home'] == team_other.name) or (variable_dict[key]['home'] == team.name and \\\n",
    "                             variable_dict[key]['away'] == team_other.name))]) == 3"
   ]
  },
  {
   "cell_type": "code",
   "execution_count": 26,
   "metadata": {
    "collapsed": false
   },
   "outputs": [
    {
     "name": "stdout",
     "output_type": "stream",
     "text": [
      "CPU times: user 5.66 s, sys: 101 ms, total: 5.76 s\n",
      "Wall time: 59 s\n"
     ]
    },
    {
     "data": {
      "text/plain": [
       "1"
      ]
     },
     "execution_count": 26,
     "metadata": {},
     "output_type": "execute_result"
    }
   ],
   "source": [
    "%time nba_schedule2.solve(pulp.solvers.GUROBI_CMD())"
   ]
  },
  {
   "cell_type": "code",
   "execution_count": 27,
   "metadata": {
    "collapsed": false
   },
   "outputs": [],
   "source": [
    "list_celtics = []\n",
    "for key in variable_dict.keys():\n",
    "    if (variable_dict[key]['home'] == 'Celtics' or variable_dict[key]['away'] == 'Celtics') and x[key].value() != 0:\n",
    "         list_celtics.append((key,x[key].value(),variable_dict[key]['posDate']))"
   ]
  },
  {
   "cell_type": "code",
   "execution_count": 28,
   "metadata": {
    "collapsed": false,
    "scrolled": true
   },
   "outputs": [
    {
     "data": {
      "text/plain": [
       "[('Thunder-Celtics-2', 1.0, 2),\n",
       " ('Celtics-Heat-4', 1.0, 4),\n",
       " ('Celtics-Mavericks-7', 1.0, 7),\n",
       " ('Heat-Celtics-9', 1.0, 9),\n",
       " ('Celtics-Pelicans-10', 1.0, 10),\n",
       " ('Spurs-Celtics-12', 1.0, 12),\n",
       " ('Celtics-Hawks-13', 1.0, 13),\n",
       " ('Nuggets-Celtics-15', 1.0, 15),\n",
       " ('Celtics-Jazz-16', 1.0, 16),\n",
       " ('Celtics-76ers-17', 1.0, 17),\n",
       " ('Hawks-Celtics-20', 1.0, 20),\n",
       " ('Celtics-Raptors-21', 1.0, 21),\n",
       " ('76ers-Celtics-23', 1.0, 23),\n",
       " ('Celtics-Pistons-24', 1.0, 24),\n",
       " ('Raptors-Celtics-27', 1.0, 27),\n",
       " ('Celtics-Clippers-28', 1.0, 28),\n",
       " ('Celtics-Wizards-29', 1.0, 29),\n",
       " ('76ers-Celtics-31', 1.0, 31),\n",
       " ('Celtics-76ers-33', 1.0, 33),\n",
       " ('Heat-Celtics-36', 1.0, 36),\n",
       " ('Celtics-Rockets-37', 1.0, 37),\n",
       " ('Trailblazers-Celtics-40', 1.0, 40),\n",
       " ('Suns-Celtics-42', 1.0, 42),\n",
       " ('Celtics-Hornets-43', 1.0, 43),\n",
       " ('Celtics-Knicks-44', 1.0, 44),\n",
       " ('Bulls-Celtics-47', 1.0, 47),\n",
       " ('Pacers-Celtics-49', 1.0, 49),\n",
       " ('Clippers-Celtics-52', 1.0, 52),\n",
       " ('Celtics-Hornets-54', 1.0, 54),\n",
       " ('Bucks-Celtics-56', 1.0, 56),\n",
       " ('Celtics-Warriors-57', 1.0, 57),\n",
       " ('Hornets-Celtics-60', 1.0, 60),\n",
       " ('Kings-Celtics-62', 1.0, 62),\n",
       " ('Magic-Celtics-64', 1.0, 64),\n",
       " ('Grizzlies-Celtics-66', 1.0, 66),\n",
       " ('Wizards-Celtics-68', 1.0, 68),\n",
       " ('Knicks-Celtics-70', 1.0, 70),\n",
       " ('Celtics-Cavaliers-72', 1.0, 72),\n",
       " ('Warriors-Celtics-74', 1.0, 74),\n",
       " ('Cavaliers-Celtics-76', 1.0, 76),\n",
       " ('Celtics-Nets-77', 1.0, 77),\n",
       " ('Celtics-Raptors-78', 1.0, 78),\n",
       " ('Cavaliers-Celtics-81', 1.0, 81),\n",
       " ('Celtics-Lakers-84', 1.0, 84),\n",
       " ('Raptors-Celtics-87', 1.0, 87),\n",
       " ('Celtics-Trailblazers-89', 1.0, 89),\n",
       " ('Celtics-Pacers-90', 1.0, 90),\n",
       " ('Celtics-Spurs-91', 1.0, 91),\n",
       " ('Nets-Celtics-94', 1.0, 94),\n",
       " ('Celtics-Pacers-96', 1.0, 96),\n",
       " ('Celtics-Hawks-99', 1.0, 99),\n",
       " ('Celtics-Suns-101', 1.0, 101),\n",
       " ('Celtics-Cavaliers-103', 1.0, 103),\n",
       " ('Magic-Celtics-105', 1.0, 105),\n",
       " ('Celtics-Bucks-107', 1.0, 107),\n",
       " ('Celtics-Bulls-109', 1.0, 109),\n",
       " ('Celtics-Nuggets-110', 1.0, 110),\n",
       " ('Mavericks-Celtics-113', 1.0, 113),\n",
       " ('Bulls-Celtics-116', 1.0, 116),\n",
       " ('Hornets-Celtics-120', 1.0, 120),\n",
       " ('Celtics-Bucks-122', 1.0, 122),\n",
       " ('Pistons-Celtics-124', 1.0, 124),\n",
       " ('Celtics-Nets-126', 1.0, 126),\n",
       " ('Knicks-Celtics-129', 1.0, 129),\n",
       " ('Celtics-Magic-130', 1.0, 130),\n",
       " ('Timberwolves-Celtics-132', 1.0, 132),\n",
       " ('Pelicans-Celtics-134', 1.0, 134),\n",
       " ('Celtics-Knicks-135', 1.0, 135),\n",
       " ('Celtics-Kings-138', 1.0, 138),\n",
       " ('Rockets-Celtics-141', 1.0, 141),\n",
       " ('Celtics-Bulls-142', 1.0, 142),\n",
       " ('Celtics-Thunder-144', 1.0, 144),\n",
       " ('Celtics-Heat-145', 1.0, 145),\n",
       " ('Celtics-Magic-146', 1.0, 146),\n",
       " ('Jazz-Celtics-148', 1.0, 148),\n",
       " ('Nets-Celtics-150', 1.0, 150),\n",
       " ('Celtics-Grizzlies-154', 1.0, 154),\n",
       " ('Pacers-Celtics-158', 1.0, 158),\n",
       " ('Celtics-Timberwolves-159', 1.0, 159),\n",
       " ('Lakers-Celtics-161', 1.0, 161),\n",
       " ('Wizards-Celtics-163', 1.0, 163),\n",
       " ('Pistons-Celtics-165', 1.0, 165)]"
      ]
     },
     "execution_count": 28,
     "metadata": {},
     "output_type": "execute_result"
    }
   ],
   "source": [
    "sorted(list_celtics,key=lambda x: x[2])"
   ]
  },
  {
   "cell_type": "code",
   "execution_count": null,
   "metadata": {
    "collapsed": true
   },
   "outputs": [],
   "source": []
  }
 ],
 "metadata": {
  "kernelspec": {
   "display_name": "Python 2",
   "language": "python",
   "name": "python2"
  },
  "language_info": {
   "codemirror_mode": {
    "name": "ipython",
    "version": 2
   },
   "file_extension": ".py",
   "mimetype": "text/x-python",
   "name": "python",
   "nbconvert_exporter": "python",
   "pygments_lexer": "ipython2",
   "version": "2.7.10"
  }
 },
 "nbformat": 4,
 "nbformat_minor": 0
}
